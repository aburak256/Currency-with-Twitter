{
  "nbformat": 4,
  "nbformat_minor": 0,
  "metadata": {
    "colab": {
      "name": "Untitled2.ipynb",
      "provenance": [],
      "collapsed_sections": [],
      "include_colab_link": true
    },
    "kernelspec": {
      "name": "python3",
      "display_name": "Python 3"
    },
    "accelerator": "GPU"
  },
  "cells": [
    {
      "cell_type": "markdown",
      "metadata": {
        "id": "view-in-github",
        "colab_type": "text"
      },
      "source": [
        "<a href=\"https://colab.research.google.com/github/aburak256/Currency-with-Twitter/blob/main/Difference_model_normal.ipynb\" target=\"_parent\"><img src=\"https://colab.research.google.com/assets/colab-badge.svg\" alt=\"Open In Colab\"/></a>"
      ]
    },
    {
      "cell_type": "code",
      "metadata": {
        "id": "toFzHUYtYeiB",
        "colab": {
          "resources": {
            "http://localhost:8080/nbextensions/google.colab/files.js": {
              "data": "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",
              "ok": true,
              "headers": [
                [
                  "content-type",
                  "application/javascript"
                ]
              ],
              "status": 200,
              "status_text": ""
            }
          },
          "base_uri": "https://localhost:8080/",
          "height": 89
        },
        "outputId": "bafc125c-07f3-4a2d-bc34-e01e58372b5a"
      },
      "source": [
        "from google.colab import files\n",
        "\n",
        "uploaded = files.upload()\n",
        "\n",
        "for fn in uploaded.keys():\n",
        " print('User uploaded file \"{name}\" with length {length} bytes'.format(\n",
        "     name=fn, length=len(uploaded[fn])))"
      ],
      "execution_count": null,
      "outputs": [
        {
          "output_type": "display_data",
          "data": {
            "text/html": [
              "\n",
              "     <input type=\"file\" id=\"files-4dfa2844-ecdf-4a1b-bb8f-69108098f874\" name=\"files[]\" multiple disabled\n",
              "        style=\"border:none\" />\n",
              "     <output id=\"result-4dfa2844-ecdf-4a1b-bb8f-69108098f874\">\n",
              "      Upload widget is only available when the cell has been executed in the\n",
              "      current browser session. Please rerun this cell to enable.\n",
              "      </output>\n",
              "      <script src=\"/nbextensions/google.colab/files.js\"></script> "
            ],
            "text/plain": [
              "<IPython.core.display.HTML object>"
            ]
          },
          "metadata": {
            "tags": []
          }
        },
        {
          "output_type": "stream",
          "text": [
            "Saving requirements.txt to requirements.txt\n",
            "User uploaded file \"requirements.txt\" with length 220 bytes\n"
          ],
          "name": "stdout"
        }
      ]
    },
    {
      "cell_type": "code",
      "metadata": {
        "id": "DL3v7lnrDh8E",
        "colab": {
          "base_uri": "https://localhost:8080/"
        },
        "outputId": "37ed379b-3eff-4ad4-fdd3-f5c70c5c9534"
      },
      "source": [
        "!pip install -r requirements.txt"
      ],
      "execution_count": null,
      "outputs": [
        {
          "output_type": "stream",
          "text": [
            "Requirement already satisfied: tqdm in /usr/local/lib/python3.6/dist-packages (from -r requirements.txt (line 1)) (4.41.1)\n",
            "Collecting pydantic\n",
            "\u001b[?25l  Downloading https://files.pythonhosted.org/packages/52/ea/fae9f69b6e56407961318e8c73e203097a97c7bd71b30bf1b4f5eb448f28/pydantic-1.7.3-cp36-cp36m-manylinux2014_x86_64.whl (9.2MB)\n",
            "\u001b[K     |████████████████████████████████| 9.2MB 5.5MB/s \n",
            "\u001b[?25hRequirement already satisfied: requests in /usr/local/lib/python3.6/dist-packages (from -r requirements.txt (line 3)) (2.23.0)\n",
            "Requirement already satisfied: xgboost in /usr/local/lib/python3.6/dist-packages (from -r requirements.txt (line 4)) (0.90)\n",
            "Requirement already satisfied: lightgbm in /usr/local/lib/python3.6/dist-packages (from -r requirements.txt (line 5)) (2.2.3)\n",
            "Collecting bayesian-optimization\n",
            "  Downloading https://files.pythonhosted.org/packages/bb/7a/fd8059a3881d3ab37ac8f72f56b73937a14e8bb14a9733e68cc8b17dbe3c/bayesian-optimization-1.2.0.tar.gz\n",
            "Requirement already satisfied: pandas in /usr/local/lib/python3.6/dist-packages (from -r requirements.txt (line 7)) (1.1.5)\n",
            "Requirement already satisfied: holidays in /usr/local/lib/python3.6/dist-packages (from -r requirements.txt (line 8)) (0.10.4)\n",
            "Requirement already satisfied: python-dateutil in /usr/local/lib/python3.6/dist-packages (from -r requirements.txt (line 9)) (2.8.1)\n",
            "Requirement already satisfied: numpy in /usr/local/lib/python3.6/dist-packages (from -r requirements.txt (line 10)) (1.19.5)\n",
            "Requirement already satisfied: scipy in /usr/local/lib/python3.6/dist-packages (from -r requirements.txt (line 11)) (1.4.1)\n",
            "Collecting mxnet\n",
            "\u001b[?25l  Downloading https://files.pythonhosted.org/packages/29/bb/54cbabe428351c06d10903c658878d29ee7026efbe45133fd133598d6eb6/mxnet-1.7.0.post1-py2.py3-none-manylinux2014_x86_64.whl (55.0MB)\n",
            "\u001b[K     |████████████████████████████████| 55.0MB 50kB/s \n",
            "\u001b[?25hCollecting gluonts\n",
            "\u001b[?25l  Downloading https://files.pythonhosted.org/packages/60/b4/4893bddfebbab963ab6406e2c33a241359463b25549a8a9937f87aa7aba9/gluonts-0.6.4-py3-none-any.whl (569kB)\n",
            "\u001b[K     |████████████████████████████████| 573kB 32.0MB/s \n",
            "\u001b[?25hRequirement already satisfied: scikit-learn in /usr/local/lib/python3.6/dist-packages (from -r requirements.txt (line 14)) (0.22.2.post1)\n",
            "Requirement already satisfied: matplotlib in /usr/local/lib/python3.6/dist-packages (from -r requirements.txt (line 15)) (3.2.2)\n",
            "Requirement already satisfied: statsmodels in /usr/local/lib/python3.6/dist-packages (from -r requirements.txt (line 16)) (0.10.2)\n",
            "Collecting beautifultable\n",
            "  Downloading https://files.pythonhosted.org/packages/87/9c/4f803f38391ec821a990f18a2f0e98bf015286976475f298d69f90d2b0f3/beautifultable-1.0.1-py2.py3-none-any.whl\n",
            "Requirement already satisfied: tabulate in /usr/local/lib/python3.6/dist-packages (from -r requirements.txt (line 18)) (0.8.7)\n",
            "Collecting pmdarima\n",
            "\u001b[?25l  Downloading https://files.pythonhosted.org/packages/c9/d7/61af1897449638822f97c8b43ef0c2fce2ec68a6cda9a43ebbbdd12b967c/pmdarima-1.8.0-cp36-cp36m-manylinux1_x86_64.whl (1.5MB)\n",
            "\u001b[K     |████████████████████████████████| 1.5MB 19.8MB/s \n",
            "\u001b[?25hCollecting shap\n",
            "\u001b[?25l  Downloading https://files.pythonhosted.org/packages/44/20/54381999efe3000f70a7f68af79ba857cfa3f82278ab0e02e6ba1c06b002/shap-0.38.1.tar.gz (352kB)\n",
            "\u001b[K     |████████████████████████████████| 358kB 37.9MB/s \n",
            "\u001b[?25hRequirement already satisfied: Jinja2 in /usr/local/lib/python3.6/dist-packages (from -r requirements.txt (line 21)) (2.11.2)\n",
            "Requirement already satisfied: dataclasses>=0.6; python_version < \"3.7\" in /usr/local/lib/python3.6/dist-packages (from pydantic->-r requirements.txt (line 2)) (0.8)\n",
            "Requirement already satisfied: idna<3,>=2.5 in /usr/local/lib/python3.6/dist-packages (from requests->-r requirements.txt (line 3)) (2.10)\n",
            "Requirement already satisfied: urllib3!=1.25.0,!=1.25.1,<1.26,>=1.21.1 in /usr/local/lib/python3.6/dist-packages (from requests->-r requirements.txt (line 3)) (1.24.3)\n",
            "Requirement already satisfied: certifi>=2017.4.17 in /usr/local/lib/python3.6/dist-packages (from requests->-r requirements.txt (line 3)) (2020.12.5)\n",
            "Requirement already satisfied: chardet<4,>=3.0.2 in /usr/local/lib/python3.6/dist-packages (from requests->-r requirements.txt (line 3)) (3.0.4)\n",
            "Requirement already satisfied: pytz>=2017.2 in /usr/local/lib/python3.6/dist-packages (from pandas->-r requirements.txt (line 7)) (2018.9)\n",
            "Requirement already satisfied: six in /usr/local/lib/python3.6/dist-packages (from holidays->-r requirements.txt (line 8)) (1.15.0)\n",
            "Requirement already satisfied: korean-lunar-calendar in /usr/local/lib/python3.6/dist-packages (from holidays->-r requirements.txt (line 8)) (0.2.1)\n",
            "Requirement already satisfied: convertdate<=2.2.0 in /usr/local/lib/python3.6/dist-packages (from holidays->-r requirements.txt (line 8)) (2.2.0)\n",
            "Collecting graphviz<0.9.0,>=0.8.1\n",
            "  Downloading https://files.pythonhosted.org/packages/53/39/4ab213673844e0c004bed8a0781a0721a3f6bb23eb8854ee75c236428892/graphviz-0.8.4-py2.py3-none-any.whl\n",
            "Collecting ujson~=1.35\n",
            "\u001b[?25l  Downloading https://files.pythonhosted.org/packages/16/c4/79f3409bc710559015464e5f49b9879430d8f87498ecdc335899732e5377/ujson-1.35.tar.gz (192kB)\n",
            "\u001b[K     |████████████████████████████████| 194kB 40.8MB/s \n",
            "\u001b[?25hRequirement already satisfied: toolz~=0.10 in /usr/local/lib/python3.6/dist-packages (from gluonts->-r requirements.txt (line 13)) (0.11.1)\n",
            "Requirement already satisfied: joblib>=0.11 in /usr/local/lib/python3.6/dist-packages (from scikit-learn->-r requirements.txt (line 14)) (1.0.0)\n",
            "Requirement already satisfied: pyparsing!=2.0.4,!=2.1.2,!=2.1.6,>=2.0.1 in /usr/local/lib/python3.6/dist-packages (from matplotlib->-r requirements.txt (line 15)) (2.4.7)\n",
            "Requirement already satisfied: kiwisolver>=1.0.1 in /usr/local/lib/python3.6/dist-packages (from matplotlib->-r requirements.txt (line 15)) (1.3.1)\n",
            "Requirement already satisfied: cycler>=0.10 in /usr/local/lib/python3.6/dist-packages (from matplotlib->-r requirements.txt (line 15)) (0.10.0)\n",
            "Requirement already satisfied: patsy>=0.4.0 in /usr/local/lib/python3.6/dist-packages (from statsmodels->-r requirements.txt (line 16)) (0.5.1)\n",
            "Requirement already satisfied: wcwidth in /usr/local/lib/python3.6/dist-packages (from beautifultable->-r requirements.txt (line 17)) (0.2.5)\n",
            "Collecting Cython<0.29.18,>=0.29\n",
            "\u001b[?25l  Downloading https://files.pythonhosted.org/packages/e7/d7/510ddef0248f3e1e91f9cc7e31c0f35f8954d0af92c5c3fd4c853e859ebe/Cython-0.29.17-cp36-cp36m-manylinux1_x86_64.whl (2.1MB)\n",
            "\u001b[K     |████████████████████████████████| 2.1MB 35.5MB/s \n",
            "\u001b[?25hRequirement already satisfied: setuptools!=50.0.0,>=38.6.0 in /usr/local/lib/python3.6/dist-packages (from pmdarima->-r requirements.txt (line 19)) (51.3.3)\n",
            "Collecting slicer==0.0.7\n",
            "  Downloading https://files.pythonhosted.org/packages/78/c2/b3f55dfdb8af9812fdb9baf70cacf3b9e82e505b2bd4324d588888b81202/slicer-0.0.7-py3-none-any.whl\n",
            "Requirement already satisfied: numba in /usr/local/lib/python3.6/dist-packages (from shap->-r requirements.txt (line 20)) (0.48.0)\n",
            "Requirement already satisfied: cloudpickle in /usr/local/lib/python3.6/dist-packages (from shap->-r requirements.txt (line 20)) (1.3.0)\n",
            "Requirement already satisfied: MarkupSafe>=0.23 in /usr/local/lib/python3.6/dist-packages (from Jinja2->-r requirements.txt (line 21)) (1.1.1)\n",
            "Requirement already satisfied: pymeeus<=1,>=0.3.6 in /usr/local/lib/python3.6/dist-packages (from convertdate<=2.2.0->holidays->-r requirements.txt (line 8)) (0.3.7)\n",
            "Requirement already satisfied: llvmlite<0.32.0,>=0.31.0dev0 in /usr/local/lib/python3.6/dist-packages (from numba->shap->-r requirements.txt (line 20)) (0.31.0)\n",
            "Building wheels for collected packages: bayesian-optimization, shap, ujson\n",
            "  Building wheel for bayesian-optimization (setup.py) ... \u001b[?25l\u001b[?25hdone\n",
            "  Created wheel for bayesian-optimization: filename=bayesian_optimization-1.2.0-cp36-none-any.whl size=11685 sha256=3fa4f977d3fadfcf792d3060e3b8fb34659213b31b5745965fc7b090fff0a4d3\n",
            "  Stored in directory: /root/.cache/pip/wheels/5a/56/ae/e0e3c1fc1954dc3ec712e2df547235ed072b448094d8f94aec\n",
            "  Building wheel for shap (setup.py) ... \u001b[?25l\u001b[?25hdone\n",
            "  Created wheel for shap: filename=shap-0.38.1-cp36-cp36m-linux_x86_64.whl size=489395 sha256=b6d3848ac1b956b1f682e88e148f1615295d077a07e7a0db1db0689e0d06996b\n",
            "  Stored in directory: /root/.cache/pip/wheels/a8/fb/e4/88012be41842b9be62ae18d82d1b1e880daf8539d1fef1fa00\n",
            "  Building wheel for ujson (setup.py) ... \u001b[?25l\u001b[?25hdone\n",
            "  Created wheel for ujson: filename=ujson-1.35-cp36-cp36m-linux_x86_64.whl size=68031 sha256=f490b1cf480cdf23a298b1d867489572fa5471bcf14251e79c8e15647f738e49\n",
            "  Stored in directory: /root/.cache/pip/wheels/28/77/e4/0311145b9c2e2f01470e744855131f9e34d6919687550f87d1\n",
            "Successfully built bayesian-optimization shap ujson\n",
            "\u001b[31mERROR: gluonts 0.6.4 has requirement pydantic<1.7,~=1.1, but you'll have pydantic 1.7.3 which is incompatible.\u001b[0m\n",
            "\u001b[31mERROR: pmdarima 1.8.0 has requirement statsmodels!=0.12.0,>=0.11, but you'll have statsmodels 0.10.2 which is incompatible.\u001b[0m\n",
            "Installing collected packages: pydantic, bayesian-optimization, graphviz, mxnet, ujson, gluonts, beautifultable, Cython, pmdarima, slicer, shap\n",
            "  Found existing installation: graphviz 0.10.1\n",
            "    Uninstalling graphviz-0.10.1:\n",
            "      Successfully uninstalled graphviz-0.10.1\n",
            "  Found existing installation: Cython 0.29.21\n",
            "    Uninstalling Cython-0.29.21:\n",
            "      Successfully uninstalled Cython-0.29.21\n",
            "Successfully installed Cython-0.29.17 bayesian-optimization-1.2.0 beautifultable-1.0.1 gluonts-0.6.4 graphviz-0.8.4 mxnet-1.7.0.post1 pmdarima-1.8.0 pydantic-1.7.3 shap-0.38.1 slicer-0.0.7 ujson-1.35\n"
          ],
          "name": "stdout"
        }
      ]
    },
    {
      "cell_type": "code",
      "metadata": {
        "id": "q5qz6h1mYXWg",
        "colab": {
          "base_uri": "https://localhost:8080/"
        },
        "outputId": "ae7089d2-e601-47d6-f8b0-65ada9d52944"
      },
      "source": [
        "\n",
        "import matplotlib.pyplot as plt\n",
        "import matplotlib as mpl\n",
        "import pandas as pd #Basic library for all of our dataset operations\n",
        "import numpy as np\n",
        "import requests\n",
        "import io\n",
        "import statsmodels.tsa.api as smt\n",
        "import statsmodels as sm\n",
        "import tensorflow as tf\n",
        "import pmdarima as pm\n",
        "import warnings\n",
        "import xgboost as xgb\n",
        "\n",
        "import lightgbm as lgb\n",
        "import gluonts\n",
        "from math import sqrt\n",
        "\n",
        "import shap\n",
        "warnings.filterwarnings(\"ignore\") #We will use deprecated models of statmodels which throw a lot of warnings to use more modern ones\n",
        "\n",
        "\n",
        "from pandas.plotting import autocorrelation_plot\n",
        "from metrics import evaluate\n",
        "from plots import bar_metrics\n",
        "from statsmodels.tsa.ar_model import AR\n",
        "from random import random\n",
        "from datetime import datetime\n",
        "from fbprophet import Prophet\n",
        "from statsmodels.tsa.seasonal import seasonal_decompose\n",
        "from statsmodels.graphics.tsaplots import plot_acf,plot_pacf\n",
        "from statsmodels.tsa.stattools import adfuller\n",
        "from statsmodels.tsa.holtwinters import SimpleExpSmoothing, ExponentialSmoothing\n",
        "from sklearn import linear_model, svm\n",
        "from sklearn.linear_model import LinearRegression\n",
        "from sklearn.ensemble import RandomForestRegressor\n",
        "from sklearn.neighbors import KNeighborsRegressor\n",
        "from sklearn.preprocessing import MinMaxScaler, StandardScaler\n",
        "from sklearn.metrics import mean_squared_error, mean_absolute_error, make_scorer\n",
        "from sklearn.model_selection import cross_val_score, GridSearchCV\n",
        "from math import sqrt\n",
        "from xgboost import plot_importance, plot_tree\n",
        "from gluonts.model.deepar import DeepAREstimator\n",
        "from gluonts.trainer import Trainer\n",
        "from gluonts.dataset.common import ListDataset\n",
        "from gluonts.evaluation.backtest import make_evaluation_predictions\n",
        "from itertools import islice\n",
        "from pylab import rcParams\n",
        "# progress bar\n",
        "from tqdm import tqdm, tqdm_notebook\n",
        "from bayes_opt import BayesianOptimization\n",
        "import csv\n",
        "seed = 42\n",
        "tf.random.set_seed(seed)\n",
        "\n",
        "np.random.seed(seed)\n",
        "plt.style.use('bmh')\n",
        "mpl.rcParams['axes.labelsize'] = 14\n",
        "mpl.rcParams['xtick.labelsize'] = 12\n",
        "mpl.rcParams['ytick.labelsize'] = 12\n",
        "mpl.rcParams['text.color'] = 'k'\n",
        "print(tf.__version__)"
      ],
      "execution_count": null,
      "outputs": [
        {
          "output_type": "stream",
          "text": [
            "2.4.0\n"
          ],
          "name": "stdout"
        }
      ]
    },
    {
      "cell_type": "code",
      "metadata": {
        "id": "pM5-vX1uDqU1",
        "colab": {
          "base_uri": "https://localhost:8080/",
          "height": 235
        },
        "outputId": "4f0db163-939f-41a9-eb90-d4113ed42b65"
      },
      "source": [
        "exchange_rate = pd.read_csv('difference_normal.csv',parse_dates=['Date'])\n",
        "exchange_rate.set_index('Date',inplace=True)\n",
        "exchange_rate.head()"
      ],
      "execution_count": null,
      "outputs": [
        {
          "output_type": "execute_result",
          "data": {
            "text/html": [
              "<div>\n",
              "<style scoped>\n",
              "    .dataframe tbody tr th:only-of-type {\n",
              "        vertical-align: middle;\n",
              "    }\n",
              "\n",
              "    .dataframe tbody tr th {\n",
              "        vertical-align: top;\n",
              "    }\n",
              "\n",
              "    .dataframe thead th {\n",
              "        text-align: right;\n",
              "    }\n",
              "</style>\n",
              "<table border=\"1\" class=\"dataframe\">\n",
              "  <thead>\n",
              "    <tr style=\"text-align: right;\">\n",
              "      <th></th>\n",
              "      <th>Rate</th>\n",
              "      <th>Previous</th>\n",
              "      <th>Lag1Order2</th>\n",
              "      <th>Direction</th>\n",
              "    </tr>\n",
              "    <tr>\n",
              "      <th>Date</th>\n",
              "      <th></th>\n",
              "      <th></th>\n",
              "      <th></th>\n",
              "      <th></th>\n",
              "    </tr>\n",
              "  </thead>\n",
              "  <tbody>\n",
              "    <tr>\n",
              "      <th>2014-01-01 18:00:00</th>\n",
              "      <td>-0.00107</td>\n",
              "      <td>2.14793</td>\n",
              "      <td>0.00054</td>\n",
              "      <td>0</td>\n",
              "    </tr>\n",
              "    <tr>\n",
              "      <th>2014-01-01 19:01:00</th>\n",
              "      <td>-0.00006</td>\n",
              "      <td>2.14686</td>\n",
              "      <td>-0.00045</td>\n",
              "      <td>0</td>\n",
              "    </tr>\n",
              "    <tr>\n",
              "      <th>2014-01-01 20:00:00</th>\n",
              "      <td>0.00048</td>\n",
              "      <td>2.14680</td>\n",
              "      <td>-0.00037</td>\n",
              "      <td>1</td>\n",
              "    </tr>\n",
              "    <tr>\n",
              "      <th>2014-01-01 21:00:00</th>\n",
              "      <td>0.00003</td>\n",
              "      <td>2.14728</td>\n",
              "      <td>0.00034</td>\n",
              "      <td>1</td>\n",
              "    </tr>\n",
              "    <tr>\n",
              "      <th>2014-01-01 22:01:00</th>\n",
              "      <td>-0.00034</td>\n",
              "      <td>2.14731</td>\n",
              "      <td>-0.00041</td>\n",
              "      <td>0</td>\n",
              "    </tr>\n",
              "  </tbody>\n",
              "</table>\n",
              "</div>"
            ],
            "text/plain": [
              "                        Rate  Previous  Lag1Order2  Direction\n",
              "Date                                                         \n",
              "2014-01-01 18:00:00 -0.00107   2.14793     0.00054          0\n",
              "2014-01-01 19:01:00 -0.00006   2.14686    -0.00045          0\n",
              "2014-01-01 20:00:00  0.00048   2.14680    -0.00037          1\n",
              "2014-01-01 21:00:00  0.00003   2.14728     0.00034          1\n",
              "2014-01-01 22:01:00 -0.00034   2.14731    -0.00041          0"
            ]
          },
          "metadata": {
            "tags": []
          },
          "execution_count": 122
        }
      ]
    },
    {
      "cell_type": "code",
      "metadata": {
        "id": "MBX5m-_4Ikcl",
        "colab": {
          "base_uri": "https://localhost:8080/",
          "height": 297
        },
        "outputId": "f2a7feaf-ea48-435a-f9d0-db69c089311d"
      },
      "source": [
        "exchange_rate.describe()"
      ],
      "execution_count": null,
      "outputs": [
        {
          "output_type": "execute_result",
          "data": {
            "text/html": [
              "<div>\n",
              "<style scoped>\n",
              "    .dataframe tbody tr th:only-of-type {\n",
              "        vertical-align: middle;\n",
              "    }\n",
              "\n",
              "    .dataframe tbody tr th {\n",
              "        vertical-align: top;\n",
              "    }\n",
              "\n",
              "    .dataframe thead th {\n",
              "        text-align: right;\n",
              "    }\n",
              "</style>\n",
              "<table border=\"1\" class=\"dataframe\">\n",
              "  <thead>\n",
              "    <tr style=\"text-align: right;\">\n",
              "      <th></th>\n",
              "      <th>Rate</th>\n",
              "      <th>Previous</th>\n",
              "      <th>Lag1Order2</th>\n",
              "      <th>Direction</th>\n",
              "    </tr>\n",
              "  </thead>\n",
              "  <tbody>\n",
              "    <tr>\n",
              "      <th>count</th>\n",
              "      <td>37196.000000</td>\n",
              "      <td>37196.000000</td>\n",
              "      <td>3.719600e+04</td>\n",
              "      <td>37196.000000</td>\n",
              "    </tr>\n",
              "    <tr>\n",
              "      <th>mean</th>\n",
              "      <td>0.000102</td>\n",
              "      <td>3.687574</td>\n",
              "      <td>-3.629423e-08</td>\n",
              "      <td>0.503818</td>\n",
              "    </tr>\n",
              "    <tr>\n",
              "      <th>std</th>\n",
              "      <td>0.010408</td>\n",
              "      <td>1.283822</td>\n",
              "      <td>1.526339e-02</td>\n",
              "      <td>0.499992</td>\n",
              "    </tr>\n",
              "    <tr>\n",
              "      <th>min</th>\n",
              "      <td>-0.343970</td>\n",
              "      <td>2.063250</td>\n",
              "      <td>-1.054890e+00</td>\n",
              "      <td>0.000000</td>\n",
              "    </tr>\n",
              "    <tr>\n",
              "      <th>25%</th>\n",
              "      <td>-0.002190</td>\n",
              "      <td>2.707673</td>\n",
              "      <td>-3.350000e-03</td>\n",
              "      <td>0.000000</td>\n",
              "    </tr>\n",
              "    <tr>\n",
              "      <th>50%</th>\n",
              "      <td>0.000020</td>\n",
              "      <td>3.468835</td>\n",
              "      <td>4.000000e-05</td>\n",
              "      <td>1.000000</td>\n",
              "    </tr>\n",
              "    <tr>\n",
              "      <th>75%</th>\n",
              "      <td>0.002233</td>\n",
              "      <td>4.734565</td>\n",
              "      <td>3.440000e-03</td>\n",
              "      <td>1.000000</td>\n",
              "    </tr>\n",
              "    <tr>\n",
              "      <th>max</th>\n",
              "      <td>0.710920</td>\n",
              "      <td>7.096780</td>\n",
              "      <td>7.686800e-01</td>\n",
              "      <td>1.000000</td>\n",
              "    </tr>\n",
              "  </tbody>\n",
              "</table>\n",
              "</div>"
            ],
            "text/plain": [
              "               Rate      Previous    Lag1Order2     Direction\n",
              "count  37196.000000  37196.000000  3.719600e+04  37196.000000\n",
              "mean       0.000102      3.687574 -3.629423e-08      0.503818\n",
              "std        0.010408      1.283822  1.526339e-02      0.499992\n",
              "min       -0.343970      2.063250 -1.054890e+00      0.000000\n",
              "25%       -0.002190      2.707673 -3.350000e-03      0.000000\n",
              "50%        0.000020      3.468835  4.000000e-05      1.000000\n",
              "75%        0.002233      4.734565  3.440000e-03      1.000000\n",
              "max        0.710920      7.096780  7.686800e-01      1.000000"
            ]
          },
          "metadata": {
            "tags": []
          },
          "execution_count": 123
        }
      ]
    },
    {
      "cell_type": "markdown",
      "metadata": {
        "id": "-qBTq4-uGAdM"
      },
      "source": [
        "## Making time series stationary"
      ]
    },
    {
      "cell_type": "code",
      "metadata": {
        "id": "Zsa69SCohEus",
        "colab": {
          "base_uri": "https://localhost:8080/"
        },
        "outputId": "1a64ee7e-25c8-4458-d299-d40cb3357e34"
      },
      "source": [
        "resultsDict={}\n",
        "predictionsDict={}\n",
        "\n",
        "split_date ='2019-01-01 00:00'\n",
        "df_training = exchange_rate.loc[exchange_rate.index <= split_date]\n",
        "df_test = exchange_rate.loc[exchange_rate.index > split_date]\n",
        "print(f\"{len(df_training)} hours of training data \\n {len(df_test)} hours of testing data \")\n",
        "\n",
        "\n",
        "df_training.to_csv('training.csv')\n",
        "df_test.to_csv('test.csv')\n"
      ],
      "execution_count": null,
      "outputs": [
        {
          "output_type": "stream",
          "text": [
            "30958 hours of training data \n",
            " 6238 hours of testing data \n"
          ],
          "name": "stdout"
        }
      ]
    },
    {
      "cell_type": "code",
      "metadata": {
        "id": "i2M5qHuwnsdz"
      },
      "source": [
        "mean = df_test.Rate.mean()\n",
        "mean = np.array([mean for u in range(len(df_test))])\n",
        "resultsDict['Naive mean'] = evaluate(df_test.Rate, mean)\n",
        "predictionsDict['Naive mean'] = mean\n",
        "resultsDict['Yesterdays value'] = evaluate(df_test.Rate, df_test.Previous)\n",
        "predictionsDict['Yesterdays value'] = df_test.Previous.values\n",
        "predictionsDict['ORIGINAL'] = df_test.Rate.values"
      ],
      "execution_count": null,
      "outputs": []
    },
    {
      "cell_type": "code",
      "metadata": {
        "id": "BjNmMcAMSrux"
      },
      "source": [
        "def create_time_features(df,target=None):\n",
        "    \"\"\"\n",
        "    Creates time series features from datetime index\n",
        "    \"\"\"\n",
        "    df['date'] = df.index\n",
        "    df['hour'] = df['date'].dt.hour\n",
        "    df['dayofweek'] = df['date'].dt.dayofweek\n",
        "    df['quarter'] = df['date'].dt.quarter\n",
        "    df['month'] = df['date'].dt.month\n",
        "    df['year'] = df['date'].dt.year\n",
        "    df['dayofyear'] = df['date'].dt.dayofyear\n",
        "    df['sin_day'] = np.sin(df['dayofyear'])\n",
        "    df['cos_day'] = np.cos(df['dayofyear'])\n",
        "    df['dayofmonth'] = df['date'].dt.day\n",
        "    df['weekofyear'] = df['date'].dt.weekofyear\n",
        "    X = df.drop(['date'],axis=1)\n",
        "    if target:\n",
        "        y = df[target]\n",
        "        X = X.drop([target],axis=1)\n",
        "        return X, y\n",
        "    \n",
        "    return X"
      ],
      "execution_count": null,
      "outputs": []
    },
    {
      "cell_type": "code",
      "metadata": {
        "id": "J3pyodw_inYu"
      },
      "source": [
        "X_train_df, y_train = create_time_features(df_training, target='Rate')\n",
        "X_test_df, y_test = create_time_features(df_test, target='Rate')\n",
        "scaler = StandardScaler() \n",
        "scaler.fit(X_train_df) \n",
        "X_train = scaler.transform(X_train_df)  \n",
        "X_test = scaler.transform(X_test_df)\n",
        "\n",
        "X_train_df = pd.DataFrame(X_train,columns=X_train_df.columns)\n",
        "X_test_df = pd.DataFrame(X_test,columns=X_test_df.columns)"
      ],
      "execution_count": null,
      "outputs": []
    },
    {
      "cell_type": "code",
      "metadata": {
        "id": "gV7WjFOXj15e"
      },
      "source": [
        "reg = linear_model.BayesianRidge()\n",
        "reg.fit(X_train, y_train)\n",
        "yhat = reg.predict(X_test)\n",
        "resultsDict['BayesianRidge'] = evaluate(df_test.Rate, yhat)\n",
        "predictionsDict['BayesianRidge'] = yhat"
      ],
      "execution_count": null,
      "outputs": []
    },
    {
      "cell_type": "code",
      "metadata": {
        "id": "V-kkuQMWj_E0",
        "colab": {
          "base_uri": "https://localhost:8080/",
          "height": 282
        },
        "outputId": "b5cd4a58-5a8c-493f-c966-24c76b0abb1d"
      },
      "source": [
        "plt.plot(df_test.Rate.values , label='Original')\n",
        "plt.plot(yhat,color='red',label='Bayesian')\n",
        "plt.legend()\n",
        "error = mean_squared_error(df_test.Rate, yhat)\n",
        "print('Test MSE: %.8f' % error)"
      ],
      "execution_count": null,
      "outputs": [
        {
          "output_type": "stream",
          "text": [
            "Test MSE: 0.00008789\n"
          ],
          "name": "stdout"
        },
        {
          "output_type": "display_data",
          "data": {
            "image/png": "[encoded data removed]",
            "text/plain": [
              "<Figure size 432x288 with 1 Axes>"
            ]
          },
          "metadata": {
            "tags": [],
            "needs_background": "light"
          }
        }
      ]
    },
    {
      "cell_type": "code",
      "metadata": {
        "id": "qZxA9ePkmMT3"
      },
      "source": [
        "reg = linear_model.Lasso(alpha=0.0001) #If alpha value increase, models complexity reduces. So set the alpha value smaller\n",
        "reg.fit(X_train, y_train)\n",
        "yhat = reg.predict(X_test)\n",
        "resultsDict['Lasso'] = evaluate(df_test.Rate, yhat)\n",
        "predictionsDict['Lasso'] = yhat"
      ],
      "execution_count": null,
      "outputs": []
    },
    {
      "cell_type": "code",
      "metadata": {
        "id": "5FjLY75Pr5uD",
        "colab": {
          "base_uri": "https://localhost:8080/",
          "height": 282
        },
        "outputId": "7fe18899-573d-420a-a1fe-c55e4ac7f2e9"
      },
      "source": [
        "plt.plot(df_test.Rate.values , label='Original')\n",
        "plt.plot(yhat,color='red',label='Lasso')\n",
        "plt.legend()\n",
        "error = mean_squared_error(df_test.Rate, yhat)\n",
        "print('Test MSE: %.8f' % error)              "
      ],
      "execution_count": null,
      "outputs": [
        {
          "output_type": "stream",
          "text": [
            "Test MSE: 0.00008826\n"
          ],
          "name": "stdout"
        },
        {
          "output_type": "display_data",
          "data": {
            "image/png": "[encoded data removed]",
            "text/plain": [
              "<Figure size 432x288 with 1 Axes>"
            ]
          },
          "metadata": {
            "tags": [],
            "needs_background": "light"
          }
        }
      ]
    },
    {
      "cell_type": "markdown",
      "metadata": {
        "id": "TuYP2VpYAzwi"
      },
      "source": [
        "Tested alpha values to get a better result.\n",
        "\n",
        "Minimum alpha value for result is 0.0001. If we choose smaller alpha it didn't changes the MSE.\n",
        "\n",
        "alpha = 0.01 MSE = 0.0003\n"
      ]
    },
    {
      "cell_type": "code",
      "metadata": {
        "id": "c-HHz5ULr-qE"
      },
      "source": [
        "reg = RandomForestRegressor(max_depth=16, random_state=0)  #set higher max_depth because it represents depth of each tree in the forest \n",
        "reg.fit(X_train, y_train)\n",
        "yhat = reg.predict(X_test)\n",
        "resultsDict['Randomforest'] = evaluate(df_test.Rate, yhat)\n",
        "predictionsDict['Randomforest'] = yhat"
      ],
      "execution_count": null,
      "outputs": []
    },
    {
      "cell_type": "code",
      "metadata": {
        "id": "R6uc0JvYsCqG",
        "colab": {
          "base_uri": "https://localhost:8080/",
          "height": 282
        },
        "outputId": "1e831e09-c32a-4b6a-8b3e-aba09567918e"
      },
      "source": [
        "plt.plot(df_test.Rate.values , label='Original')\n",
        "plt.plot(yhat,color='red',label='Random Forest')\n",
        "plt.legend()\n",
        "error = mean_squared_error(df_test.Rate, yhat)\n",
        "print('Test MSE: %.8f' % error)"
      ],
      "execution_count": null,
      "outputs": [
        {
          "output_type": "stream",
          "text": [
            "Test MSE: 0.00079169\n"
          ],
          "name": "stdout"
        },
        {
          "output_type": "display_data",
          "data": {
            "image/png": "[encoded data removed]",
            "text/plain": [
              "<Figure size 432x288 with 1 Axes>"
            ]
          },
          "metadata": {
            "tags": [],
            "needs_background": "light"
          }
        }
      ]
    },
    {
      "cell_type": "markdown",
      "metadata": {
        "id": "4eNjHXRjB8fD"
      },
      "source": [
        "depth = 8 MSE = 0.00003\n",
        "\n",
        "depth = 16 MSE = 0.00002\n",
        "\n",
        "depth = 32 MSE = 0.00002\n",
        "\n",
        "So the optimal depth for this model should be 16"
      ]
    },
    {
      "cell_type": "code",
      "metadata": {
        "id": "nGHek84gsH3A"
      },
      "source": [
        "reg = xgb.XGBRegressor(objective ='reg:squarederror',n_estimators=300, max_depth=5)\n",
        "reg.fit(X_train, y_train,\n",
        "       verbose=False) # Change verbose to True if you want to see it train\n",
        "yhat = reg.predict(X_test)\n",
        "resultsDict['XGBoost'] = evaluate(df_test.Rate, yhat)\n",
        "predictionsDict['XGBoost'] = yhat"
      ],
      "execution_count": null,
      "outputs": []
    },
    {
      "cell_type": "code",
      "metadata": {
        "id": "V22FjRoYsMev",
        "colab": {
          "base_uri": "https://localhost:8080/",
          "height": 282
        },
        "outputId": "6a892516-e70b-4e04-c76b-04caf203ee6e"
      },
      "source": [
        "plt.plot(df_test.Rate.values , label='Original')\n",
        "plt.plot(yhat,color='red',label='XGBoost')\n",
        "plt.legend()\n",
        "error = mean_squared_error(df_test.Rate, yhat)\n",
        "print('Test MSE: %.8f' % error)"
      ],
      "execution_count": null,
      "outputs": [
        {
          "output_type": "stream",
          "text": [
            "Test MSE: 0.00052311\n"
          ],
          "name": "stdout"
        },
        {
          "output_type": "display_data",
          "data": {
            "image/png": "[encoded data removed]",
            "text/plain": [
              "<Figure size 432x288 with 1 Axes>"
            ]
          },
          "metadata": {
            "tags": [],
            "needs_background": "light"
          }
        }
      ]
    },
    {
      "cell_type": "markdown",
      "metadata": {
        "id": "rei8vekrDlFZ"
      },
      "source": [
        "300 estimator and 5 depth = 0.00002\n",
        "\n",
        "1000 estimators and default depth = 0.00010"
      ]
    },
    {
      "cell_type": "code",
      "metadata": {
        "id": "rCku9rU7sS8r"
      },
      "source": [
        "lightGBM = lgb.LGBMRegressor()\n",
        "lightGBM.fit(X_train,y_train)\n",
        "yhat = lightGBM.predict(X_test)\n",
        "resultsDict['Lightgbm'] = evaluate(df_test.Rate, yhat)\n",
        "predictionsDict['Lightgbm'] = yhat"
      ],
      "execution_count": null,
      "outputs": []
    },
    {
      "cell_type": "code",
      "metadata": {
        "id": "H-o-Ncu_sqZv",
        "colab": {
          "base_uri": "https://localhost:8080/",
          "height": 282
        },
        "outputId": "30fb97f6-b0ae-4f33-ae05-7f5306e51a72"
      },
      "source": [
        "plt.plot(df_test.Rate.values , label='Original')\n",
        "plt.plot(yhat,color='red',label='LightGBM')\n",
        "plt.legend()\n",
        "error = mean_squared_error(df_test.Rate, yhat)\n",
        "print('Test MSE: %.8f' % error)"
      ],
      "execution_count": null,
      "outputs": [
        {
          "output_type": "stream",
          "text": [
            "Test MSE: 0.00098074\n"
          ],
          "name": "stdout"
        },
        {
          "output_type": "display_data",
          "data": {
            "image/png": "[encoded data removed]",
            "text/plain": [
              "<Figure size 432x288 with 1 Axes>"
            ]
          },
          "metadata": {
            "tags": [],
            "needs_background": "light"
          }
        }
      ]
    },
    {
      "cell_type": "code",
      "metadata": {
        "id": "3aEenumltN6W",
        "colab": {
          "base_uri": "https://localhost:8080/"
        },
        "outputId": "778acc27-e83c-4922-8740-27e1a3e45196"
      },
      "source": [
        "BATCH_SIZE = 128\n",
        "BUFFER_SIZE = 50\n",
        "WINDOW_LENGTH = 24\n",
        "def window_data(X,Y,window=24):\n",
        "    '''\n",
        "    The dataset length will be reduced to guarante all samples have the window, so new length will be len(dataset)-window\n",
        "    '''\n",
        "    x=[]\n",
        "    y=[]\n",
        "    for i in range(window-1,len(X)):\n",
        "        x.append(X[i-window+1:i+1]) \n",
        "        y.append(Y[i])\n",
        "    return np.array(x), np.array(y)\n",
        "        \n",
        "#Since we are doing sliding, we need to join the datasets again of train and test\n",
        "X_w = np.concatenate((X_train, X_test))\n",
        "y_w = np.concatenate((y_train, y_test))\n",
        "\n",
        "X_w,y_w = window_data(X_w,y_w,window=WINDOW_LENGTH)\n",
        "X_train_w = X_w[:-len(X_test)]\n",
        "y_train_w = y_w[:-len(X_test)]\n",
        "X_test_w = X_w[-len(X_test):]\n",
        "y_test_w = y_w[-len(X_test):]\n",
        "\n",
        "#Check we will have same test set as in the previous models, make sure we didnt screw up on the windowing\n",
        "print(f\"Test set equal: {np.array_equal(y_test_w,y_test)}\")\n",
        "\n",
        "train_data = tf.data.Dataset.from_tensor_slices((X_train_w, y_train_w))\n",
        "train_data = train_data.cache().shuffle(BUFFER_SIZE).batch(BATCH_SIZE).repeat()\n",
        "\n",
        "val_data = tf.data.Dataset.from_tensor_slices((X_test_w, y_test_w))\n",
        "val_data = val_data.batch(BATCH_SIZE).repeat()"
      ],
      "execution_count": null,
      "outputs": [
        {
          "output_type": "stream",
          "text": [
            "Test set equal: True\n"
          ],
          "name": "stdout"
        }
      ]
    },
    {
      "cell_type": "code",
      "metadata": {
        "id": "MDZzw9ldn69R"
      },
      "source": [
        "dropout=0.0\n",
        "simple_lstm_model = tf.keras.models.Sequential([\n",
        "    tf.keras.layers.LSTM(128, input_shape=X_train_w.shape[-2:],dropout=dropout),\n",
        "    tf.keras.layers.Dense(128),\n",
        "    tf.keras.layers.Dense(128),\n",
        "    tf.keras.layers.Dense(128),\n",
        "    tf.keras.layers.Dense(1)\n",
        "])\n",
        "\n",
        "simple_lstm_model.compile(optimizer='rmsprop', loss='mae')"
      ],
      "execution_count": null,
      "outputs": []
    },
    {
      "cell_type": "code",
      "metadata": {
        "colab": {
          "base_uri": "https://localhost:8080/"
        },
        "id": "xM5YMsz9oDnm",
        "outputId": "a7fd6e50-6a96-498a-98b9-25d1d3b62e86"
      },
      "source": [
        "EVALUATION_INTERVAL = len(X_train) / BATCH_SIZE\n",
        "EPOCHS = 200\n",
        "\n",
        "model_history = simple_lstm_model.fit(train_data, epochs=EPOCHS,\n",
        "                      steps_per_epoch=EVALUATION_INTERVAL,\n",
        "                      validation_data=val_data, validation_steps=20)"
      ],
      "execution_count": null,
      "outputs": [
        {
          "output_type": "stream",
          "text": [
            "Epoch 1/200\n",
            "241/241 [==============================] - 5s 13ms/step - loss: 0.1412 - val_loss: 0.0124\n",
            "Epoch 2/200\n",
            "241/241 [==============================] - 3s 11ms/step - loss: 0.0225 - val_loss: 0.0153\n",
            "Epoch 3/200\n",
            "241/241 [==============================] - 3s 11ms/step - loss: 0.0133 - val_loss: 0.0092\n",
            "Epoch 4/200\n",
            "241/241 [==============================] - 3s 11ms/step - loss: 0.0091 - val_loss: 0.0090\n",
            "Epoch 5/200\n",
            "241/241 [==============================] - 3s 11ms/step - loss: 0.0058 - val_loss: 0.0074\n",
            "Epoch 6/200\n",
            "241/241 [==============================] - 3s 11ms/step - loss: 0.0036 - val_loss: 0.0051\n",
            "Epoch 7/200\n",
            "241/241 [==============================] - 3s 11ms/step - loss: 0.0024 - val_loss: 0.0029\n",
            "Epoch 8/200\n",
            "241/241 [==============================] - 3s 11ms/step - loss: 0.0016 - val_loss: 0.0024\n",
            "Epoch 9/200\n",
            "241/241 [==============================] - 3s 11ms/step - loss: 0.0013 - val_loss: 0.0020\n",
            "Epoch 10/200\n",
            "241/241 [==============================] - 3s 11ms/step - loss: 0.0013 - val_loss: 0.0024\n",
            "Epoch 11/200\n",
            "241/241 [==============================] - 3s 11ms/step - loss: 0.0012 - val_loss: 0.0023\n",
            "Epoch 12/200\n",
            "241/241 [==============================] - 3s 11ms/step - loss: 0.0011 - val_loss: 0.0021\n",
            "Epoch 13/200\n",
            "241/241 [==============================] - 3s 11ms/step - loss: 0.0011 - val_loss: 0.0022\n",
            "Epoch 14/200\n",
            "241/241 [==============================] - 3s 11ms/step - loss: 0.0011 - val_loss: 0.0018\n",
            "Epoch 15/200\n",
            "241/241 [==============================] - 3s 11ms/step - loss: 0.0010 - val_loss: 0.0017\n",
            "Epoch 16/200\n",
            "241/241 [==============================] - 3s 11ms/step - loss: 0.0010 - val_loss: 0.0021\n",
            "Epoch 17/200\n",
            "241/241 [==============================] - 3s 12ms/step - loss: 0.0010 - val_loss: 0.0018\n",
            "Epoch 18/200\n",
            "241/241 [==============================] - 3s 11ms/step - loss: 0.0010 - val_loss: 0.0019\n",
            "Epoch 19/200\n",
            "241/241 [==============================] - 3s 11ms/step - loss: 9.9321e-04 - val_loss: 0.0018\n",
            "Epoch 20/200\n",
            "241/241 [==============================] - 3s 11ms/step - loss: 9.8201e-04 - val_loss: 0.0021\n",
            "Epoch 21/200\n",
            "241/241 [==============================] - 3s 11ms/step - loss: 9.6169e-04 - val_loss: 0.0018\n",
            "Epoch 22/200\n",
            "241/241 [==============================] - 3s 11ms/step - loss: 9.6980e-04 - val_loss: 0.0018\n",
            "Epoch 23/200\n",
            "241/241 [==============================] - 3s 11ms/step - loss: 9.4789e-04 - val_loss: 0.0017\n",
            "Epoch 24/200\n",
            "241/241 [==============================] - 3s 11ms/step - loss: 9.3703e-04 - val_loss: 0.0018\n",
            "Epoch 25/200\n",
            "241/241 [==============================] - 3s 11ms/step - loss: 9.2958e-04 - val_loss: 0.0021\n",
            "Epoch 26/200\n",
            "241/241 [==============================] - 3s 11ms/step - loss: 9.4843e-04 - val_loss: 0.0020\n",
            "Epoch 27/200\n",
            "241/241 [==============================] - 3s 11ms/step - loss: 9.0672e-04 - val_loss: 0.0017\n",
            "Epoch 28/200\n",
            "241/241 [==============================] - 3s 11ms/step - loss: 9.2553e-04 - val_loss: 0.0019\n",
            "Epoch 29/200\n",
            "241/241 [==============================] - 3s 11ms/step - loss: 9.0823e-04 - val_loss: 0.0017\n",
            "Epoch 30/200\n",
            "241/241 [==============================] - 3s 11ms/step - loss: 8.8937e-04 - val_loss: 0.0019\n",
            "Epoch 31/200\n",
            "241/241 [==============================] - 3s 11ms/step - loss: 8.8558e-04 - val_loss: 0.0019\n",
            "Epoch 32/200\n",
            "241/241 [==============================] - 3s 11ms/step - loss: 8.8384e-04 - val_loss: 0.0018\n",
            "Epoch 33/200\n",
            "241/241 [==============================] - 3s 11ms/step - loss: 8.7410e-04 - val_loss: 0.0019\n",
            "Epoch 34/200\n",
            "241/241 [==============================] - 3s 11ms/step - loss: 8.7264e-04 - val_loss: 0.0017\n",
            "Epoch 35/200\n",
            "241/241 [==============================] - 3s 11ms/step - loss: 8.6722e-04 - val_loss: 0.0023\n",
            "Epoch 36/200\n",
            "241/241 [==============================] - 3s 11ms/step - loss: 9.0081e-04 - val_loss: 0.0019\n",
            "Epoch 37/200\n",
            "241/241 [==============================] - 3s 11ms/step - loss: 8.6105e-04 - val_loss: 0.0019\n",
            "Epoch 38/200\n",
            "241/241 [==============================] - 3s 11ms/step - loss: 8.7393e-04 - val_loss: 0.0019\n",
            "Epoch 39/200\n",
            "241/241 [==============================] - 3s 11ms/step - loss: 8.4496e-04 - val_loss: 0.0020\n",
            "Epoch 40/200\n",
            "241/241 [==============================] - 3s 11ms/step - loss: 8.7356e-04 - val_loss: 0.0017\n",
            "Epoch 41/200\n",
            "241/241 [==============================] - 3s 11ms/step - loss: 8.5044e-04 - val_loss: 0.0018\n",
            "Epoch 42/200\n",
            "241/241 [==============================] - 3s 11ms/step - loss: 8.5563e-04 - val_loss: 0.0019\n",
            "Epoch 43/200\n",
            "241/241 [==============================] - 3s 11ms/step - loss: 8.6960e-04 - val_loss: 0.0019\n",
            "Epoch 44/200\n",
            "241/241 [==============================] - 3s 12ms/step - loss: 8.5671e-04 - val_loss: 0.0020\n",
            "Epoch 45/200\n",
            "241/241 [==============================] - 3s 11ms/step - loss: 8.6391e-04 - val_loss: 0.0017\n",
            "Epoch 46/200\n",
            "241/241 [==============================] - 3s 11ms/step - loss: 8.3682e-04 - val_loss: 0.0017\n",
            "Epoch 47/200\n",
            "241/241 [==============================] - 3s 11ms/step - loss: 8.3981e-04 - val_loss: 0.0017\n",
            "Epoch 48/200\n",
            "241/241 [==============================] - 3s 11ms/step - loss: 8.3766e-04 - val_loss: 0.0020\n",
            "Epoch 49/200\n",
            "241/241 [==============================] - 3s 11ms/step - loss: 8.3807e-04 - val_loss: 0.0017\n",
            "Epoch 50/200\n",
            "241/241 [==============================] - 3s 11ms/step - loss: 8.2516e-04 - val_loss: 0.0016\n",
            "Epoch 51/200\n",
            "241/241 [==============================] - 3s 11ms/step - loss: 8.1569e-04 - val_loss: 0.0019\n",
            "Epoch 52/200\n",
            "241/241 [==============================] - 3s 11ms/step - loss: 8.4349e-04 - val_loss: 0.0019\n",
            "Epoch 53/200\n",
            "241/241 [==============================] - 3s 11ms/step - loss: 8.2914e-04 - val_loss: 0.0019\n",
            "Epoch 54/200\n",
            "241/241 [==============================] - 3s 11ms/step - loss: 8.2303e-04 - val_loss: 0.0016\n",
            "Epoch 55/200\n",
            "241/241 [==============================] - 3s 11ms/step - loss: 8.1853e-04 - val_loss: 0.0020\n",
            "Epoch 56/200\n",
            "241/241 [==============================] - 3s 11ms/step - loss: 8.2271e-04 - val_loss: 0.0017\n",
            "Epoch 57/200\n",
            "241/241 [==============================] - 3s 11ms/step - loss: 8.2164e-04 - val_loss: 0.0018\n",
            "Epoch 58/200\n",
            "241/241 [==============================] - 3s 11ms/step - loss: 8.2998e-04 - val_loss: 0.0018\n",
            "Epoch 59/200\n",
            "241/241 [==============================] - 3s 11ms/step - loss: 8.1532e-04 - val_loss: 0.0018\n",
            "Epoch 60/200\n",
            "241/241 [==============================] - 3s 11ms/step - loss: 8.1448e-04 - val_loss: 0.0018\n",
            "Epoch 61/200\n",
            "241/241 [==============================] - 3s 11ms/step - loss: 7.9425e-04 - val_loss: 0.0020\n",
            "Epoch 62/200\n",
            "241/241 [==============================] - 3s 11ms/step - loss: 8.2640e-04 - val_loss: 0.0018\n",
            "Epoch 63/200\n",
            "241/241 [==============================] - 3s 11ms/step - loss: 8.0177e-04 - val_loss: 0.0019\n",
            "Epoch 64/200\n",
            "241/241 [==============================] - 3s 11ms/step - loss: 7.9745e-04 - val_loss: 0.0020\n",
            "Epoch 65/200\n",
            "241/241 [==============================] - 3s 11ms/step - loss: 7.9943e-04 - val_loss: 0.0017\n",
            "Epoch 66/200\n",
            "241/241 [==============================] - 3s 11ms/step - loss: 8.0444e-04 - val_loss: 0.0018\n",
            "Epoch 67/200\n",
            "241/241 [==============================] - 3s 11ms/step - loss: 8.1130e-04 - val_loss: 0.0021\n",
            "Epoch 68/200\n",
            "241/241 [==============================] - 3s 11ms/step - loss: 8.1460e-04 - val_loss: 0.0020\n",
            "Epoch 69/200\n",
            "241/241 [==============================] - 3s 11ms/step - loss: 8.0345e-04 - val_loss: 0.0019\n",
            "Epoch 70/200\n",
            "241/241 [==============================] - 3s 11ms/step - loss: 7.9373e-04 - val_loss: 0.0019\n",
            "Epoch 71/200\n",
            "241/241 [==============================] - 3s 12ms/step - loss: 8.0345e-04 - val_loss: 0.0020\n",
            "Epoch 72/200\n",
            "241/241 [==============================] - 3s 11ms/step - loss: 7.9909e-04 - val_loss: 0.0019\n",
            "Epoch 73/200\n",
            "241/241 [==============================] - 3s 11ms/step - loss: 7.8836e-04 - val_loss: 0.0022\n",
            "Epoch 74/200\n",
            "241/241 [==============================] - 3s 11ms/step - loss: 7.9934e-04 - val_loss: 0.0019\n",
            "Epoch 75/200\n",
            "241/241 [==============================] - 3s 11ms/step - loss: 8.0206e-04 - val_loss: 0.0018\n",
            "Epoch 76/200\n",
            "241/241 [==============================] - 3s 11ms/step - loss: 7.7275e-04 - val_loss: 0.0021\n",
            "Epoch 77/200\n",
            "241/241 [==============================] - 3s 11ms/step - loss: 8.0236e-04 - val_loss: 0.0020\n",
            "Epoch 78/200\n",
            "241/241 [==============================] - 3s 11ms/step - loss: 7.7911e-04 - val_loss: 0.0018\n",
            "Epoch 79/200\n",
            "241/241 [==============================] - 3s 11ms/step - loss: 7.7228e-04 - val_loss: 0.0019\n",
            "Epoch 80/200\n",
            "241/241 [==============================] - 3s 11ms/step - loss: 7.8510e-04 - val_loss: 0.0019\n",
            "Epoch 81/200\n",
            "241/241 [==============================] - 3s 11ms/step - loss: 7.7730e-04 - val_loss: 0.0019\n",
            "Epoch 82/200\n",
            "241/241 [==============================] - 3s 11ms/step - loss: 8.0120e-04 - val_loss: 0.0019\n",
            "Epoch 83/200\n",
            "241/241 [==============================] - 3s 11ms/step - loss: 7.7352e-04 - val_loss: 0.0019\n",
            "Epoch 84/200\n",
            "241/241 [==============================] - 3s 11ms/step - loss: 7.7911e-04 - val_loss: 0.0019\n",
            "Epoch 85/200\n",
            "241/241 [==============================] - 3s 11ms/step - loss: 7.6472e-04 - val_loss: 0.0017\n",
            "Epoch 86/200\n",
            "241/241 [==============================] - 3s 11ms/step - loss: 7.6406e-04 - val_loss: 0.0019\n",
            "Epoch 87/200\n",
            "241/241 [==============================] - 3s 11ms/step - loss: 7.8670e-04 - val_loss: 0.0021\n",
            "Epoch 88/200\n",
            "241/241 [==============================] - 3s 11ms/step - loss: 7.9560e-04 - val_loss: 0.0018\n",
            "Epoch 89/200\n",
            "241/241 [==============================] - 3s 11ms/step - loss: 7.5718e-04 - val_loss: 0.0020\n",
            "Epoch 90/200\n",
            "241/241 [==============================] - 3s 11ms/step - loss: 7.7529e-04 - val_loss: 0.0018\n",
            "Epoch 91/200\n",
            "241/241 [==============================] - 3s 11ms/step - loss: 7.6553e-04 - val_loss: 0.0020\n",
            "Epoch 92/200\n",
            "241/241 [==============================] - 3s 11ms/step - loss: 8.0845e-04 - val_loss: 0.0023\n",
            "Epoch 93/200\n",
            "241/241 [==============================] - 3s 11ms/step - loss: 7.8657e-04 - val_loss: 0.0018\n",
            "Epoch 94/200\n",
            "241/241 [==============================] - 3s 11ms/step - loss: 7.6399e-04 - val_loss: 0.0018\n",
            "Epoch 95/200\n",
            "241/241 [==============================] - 3s 11ms/step - loss: 7.6687e-04 - val_loss: 0.0018\n",
            "Epoch 96/200\n",
            "241/241 [==============================] - 3s 11ms/step - loss: 7.6714e-04 - val_loss: 0.0021\n",
            "Epoch 97/200\n",
            "241/241 [==============================] - 3s 11ms/step - loss: 7.7105e-04 - val_loss: 0.0023\n",
            "Epoch 98/200\n",
            "241/241 [==============================] - 3s 12ms/step - loss: 7.7888e-04 - val_loss: 0.0019\n",
            "Epoch 99/200\n",
            "241/241 [==============================] - 3s 11ms/step - loss: 7.7544e-04 - val_loss: 0.0020\n",
            "Epoch 100/200\n",
            "241/241 [==============================] - 3s 11ms/step - loss: 7.5807e-04 - val_loss: 0.0019\n",
            "Epoch 101/200\n",
            "241/241 [==============================] - 3s 11ms/step - loss: 7.6302e-04 - val_loss: 0.0020\n",
            "Epoch 102/200\n",
            "241/241 [==============================] - 3s 11ms/step - loss: 7.5651e-04 - val_loss: 0.0020\n",
            "Epoch 103/200\n",
            "241/241 [==============================] - 3s 11ms/step - loss: 7.7156e-04 - val_loss: 0.0021\n",
            "Epoch 104/200\n",
            "241/241 [==============================] - 3s 11ms/step - loss: 7.6829e-04 - val_loss: 0.0020\n",
            "Epoch 105/200\n",
            "241/241 [==============================] - 3s 11ms/step - loss: 7.6779e-04 - val_loss: 0.0022\n",
            "Epoch 106/200\n",
            "241/241 [==============================] - 3s 11ms/step - loss: 7.6589e-04 - val_loss: 0.0019\n",
            "Epoch 107/200\n",
            "241/241 [==============================] - 3s 11ms/step - loss: 7.5611e-04 - val_loss: 0.0021\n",
            "Epoch 108/200\n",
            "241/241 [==============================] - 3s 11ms/step - loss: 7.6221e-04 - val_loss: 0.0021\n",
            "Epoch 109/200\n",
            "241/241 [==============================] - 3s 11ms/step - loss: 7.6637e-04 - val_loss: 0.0020\n",
            "Epoch 110/200\n",
            "241/241 [==============================] - 3s 11ms/step - loss: 7.7849e-04 - val_loss: 0.0020\n",
            "Epoch 111/200\n",
            "241/241 [==============================] - 3s 11ms/step - loss: 7.5233e-04 - val_loss: 0.0019\n",
            "Epoch 112/200\n",
            "241/241 [==============================] - 3s 11ms/step - loss: 7.4404e-04 - val_loss: 0.0021\n",
            "Epoch 113/200\n",
            "241/241 [==============================] - 3s 11ms/step - loss: 7.7170e-04 - val_loss: 0.0020\n",
            "Epoch 114/200\n",
            "241/241 [==============================] - 3s 11ms/step - loss: 7.4026e-04 - val_loss: 0.0021\n",
            "Epoch 115/200\n",
            "241/241 [==============================] - 3s 11ms/step - loss: 7.5683e-04 - val_loss: 0.0019\n",
            "Epoch 116/200\n",
            "241/241 [==============================] - 3s 11ms/step - loss: 7.4032e-04 - val_loss: 0.0021\n",
            "Epoch 117/200\n",
            "241/241 [==============================] - 3s 11ms/step - loss: 7.5724e-04 - val_loss: 0.0020\n",
            "Epoch 118/200\n",
            "241/241 [==============================] - 3s 11ms/step - loss: 7.4023e-04 - val_loss: 0.0020\n",
            "Epoch 119/200\n",
            "241/241 [==============================] - 3s 11ms/step - loss: 7.4596e-04 - val_loss: 0.0022\n",
            "Epoch 120/200\n",
            "241/241 [==============================] - 3s 11ms/step - loss: 7.4567e-04 - val_loss: 0.0018\n",
            "Epoch 121/200\n",
            "241/241 [==============================] - 3s 11ms/step - loss: 7.2545e-04 - val_loss: 0.0021\n",
            "Epoch 122/200\n",
            "241/241 [==============================] - 3s 11ms/step - loss: 7.4772e-04 - val_loss: 0.0020\n",
            "Epoch 123/200\n",
            "241/241 [==============================] - 3s 11ms/step - loss: 7.3347e-04 - val_loss: 0.0021\n",
            "Epoch 124/200\n",
            "241/241 [==============================] - 3s 11ms/step - loss: 7.3778e-04 - val_loss: 0.0020\n",
            "Epoch 125/200\n",
            "241/241 [==============================] - 3s 12ms/step - loss: 7.3444e-04 - val_loss: 0.0019\n",
            "Epoch 126/200\n",
            "241/241 [==============================] - 3s 11ms/step - loss: 7.3027e-04 - val_loss: 0.0022\n",
            "Epoch 127/200\n",
            "241/241 [==============================] - 3s 11ms/step - loss: 7.5119e-04 - val_loss: 0.0019\n",
            "Epoch 128/200\n",
            "241/241 [==============================] - 3s 11ms/step - loss: 7.3963e-04 - val_loss: 0.0019\n",
            "Epoch 129/200\n",
            "241/241 [==============================] - 3s 11ms/step - loss: 7.3113e-04 - val_loss: 0.0019\n",
            "Epoch 130/200\n",
            "241/241 [==============================] - 3s 11ms/step - loss: 7.2305e-04 - val_loss: 0.0021\n",
            "Epoch 131/200\n",
            "241/241 [==============================] - 3s 11ms/step - loss: 7.2822e-04 - val_loss: 0.0019\n",
            "Epoch 132/200\n",
            "241/241 [==============================] - 3s 11ms/step - loss: 7.4145e-04 - val_loss: 0.0019\n",
            "Epoch 133/200\n",
            "241/241 [==============================] - 3s 11ms/step - loss: 7.2809e-04 - val_loss: 0.0019\n",
            "Epoch 134/200\n",
            "241/241 [==============================] - 3s 11ms/step - loss: 7.1649e-04 - val_loss: 0.0020\n",
            "Epoch 135/200\n",
            "241/241 [==============================] - 3s 11ms/step - loss: 7.3544e-04 - val_loss: 0.0018\n",
            "Epoch 136/200\n",
            "241/241 [==============================] - 3s 11ms/step - loss: 7.2471e-04 - val_loss: 0.0021\n",
            "Epoch 137/200\n",
            "241/241 [==============================] - 3s 11ms/step - loss: 7.3552e-04 - val_loss: 0.0020\n",
            "Epoch 138/200\n",
            "241/241 [==============================] - 3s 11ms/step - loss: 7.2898e-04 - val_loss: 0.0021\n",
            "Epoch 139/200\n",
            "241/241 [==============================] - 3s 11ms/step - loss: 7.3240e-04 - val_loss: 0.0020\n",
            "Epoch 140/200\n",
            "241/241 [==============================] - 3s 11ms/step - loss: 7.3112e-04 - val_loss: 0.0021\n",
            "Epoch 141/200\n",
            "241/241 [==============================] - 3s 11ms/step - loss: 7.3446e-04 - val_loss: 0.0018\n",
            "Epoch 142/200\n",
            "241/241 [==============================] - 3s 11ms/step - loss: 7.2138e-04 - val_loss: 0.0021\n",
            "Epoch 143/200\n",
            "241/241 [==============================] - 3s 11ms/step - loss: 7.2114e-04 - val_loss: 0.0023\n",
            "Epoch 144/200\n",
            "241/241 [==============================] - 3s 11ms/step - loss: 7.3072e-04 - val_loss: 0.0021\n",
            "Epoch 145/200\n",
            "241/241 [==============================] - 3s 11ms/step - loss: 7.1407e-04 - val_loss: 0.0021\n",
            "Epoch 146/200\n",
            "241/241 [==============================] - 3s 11ms/step - loss: 7.0717e-04 - val_loss: 0.0020\n",
            "Epoch 147/200\n",
            "241/241 [==============================] - 3s 11ms/step - loss: 7.1859e-04 - val_loss: 0.0021\n",
            "Epoch 148/200\n",
            "241/241 [==============================] - 3s 12ms/step - loss: 7.4329e-04 - val_loss: 0.0019\n",
            "Epoch 149/200\n",
            "241/241 [==============================] - 3s 11ms/step - loss: 7.1277e-04 - val_loss: 0.0020\n",
            "Epoch 150/200\n",
            "241/241 [==============================] - 3s 11ms/step - loss: 7.1741e-04 - val_loss: 0.0020\n",
            "Epoch 151/200\n",
            "241/241 [==============================] - 3s 12ms/step - loss: 7.2335e-04 - val_loss: 0.0019\n",
            "Epoch 152/200\n",
            "241/241 [==============================] - 3s 11ms/step - loss: 7.0398e-04 - val_loss: 0.0020\n",
            "Epoch 153/200\n",
            "241/241 [==============================] - 3s 11ms/step - loss: 7.2150e-04 - val_loss: 0.0023\n",
            "Epoch 154/200\n",
            "241/241 [==============================] - 3s 11ms/step - loss: 7.3706e-04 - val_loss: 0.0021\n",
            "Epoch 155/200\n",
            "241/241 [==============================] - 3s 11ms/step - loss: 7.2602e-04 - val_loss: 0.0020\n",
            "Epoch 156/200\n",
            "241/241 [==============================] - 3s 11ms/step - loss: 7.3820e-04 - val_loss: 0.0021\n",
            "Epoch 157/200\n",
            "241/241 [==============================] - 3s 11ms/step - loss: 7.2484e-04 - val_loss: 0.0022\n",
            "Epoch 158/200\n",
            "241/241 [==============================] - 3s 11ms/step - loss: 7.1647e-04 - val_loss: 0.0019\n",
            "Epoch 159/200\n",
            "241/241 [==============================] - 3s 11ms/step - loss: 7.0986e-04 - val_loss: 0.0022\n",
            "Epoch 160/200\n",
            "241/241 [==============================] - 3s 11ms/step - loss: 7.3144e-04 - val_loss: 0.0021\n",
            "Epoch 161/200\n",
            "241/241 [==============================] - 3s 11ms/step - loss: 7.0599e-04 - val_loss: 0.0021\n",
            "Epoch 162/200\n",
            "241/241 [==============================] - 3s 11ms/step - loss: 7.1111e-04 - val_loss: 0.0020\n",
            "Epoch 163/200\n",
            "241/241 [==============================] - 3s 11ms/step - loss: 7.0165e-04 - val_loss: 0.0020\n",
            "Epoch 164/200\n",
            "241/241 [==============================] - 3s 11ms/step - loss: 7.0783e-04 - val_loss: 0.0022\n",
            "Epoch 165/200\n",
            "241/241 [==============================] - 3s 11ms/step - loss: 7.2353e-04 - val_loss: 0.0023\n",
            "Epoch 166/200\n",
            "241/241 [==============================] - 3s 11ms/step - loss: 7.4329e-04 - val_loss: 0.0021\n",
            "Epoch 167/200\n",
            "241/241 [==============================] - 3s 11ms/step - loss: 7.0377e-04 - val_loss: 0.0021\n",
            "Epoch 168/200\n",
            "241/241 [==============================] - 3s 11ms/step - loss: 7.3513e-04 - val_loss: 0.0021\n",
            "Epoch 169/200\n",
            "241/241 [==============================] - 3s 11ms/step - loss: 7.2176e-04 - val_loss: 0.0020\n",
            "Epoch 170/200\n",
            "241/241 [==============================] - 3s 11ms/step - loss: 7.0473e-04 - val_loss: 0.0020\n",
            "Epoch 171/200\n",
            "241/241 [==============================] - 3s 11ms/step - loss: 7.1074e-04 - val_loss: 0.0021\n",
            "Epoch 172/200\n",
            "241/241 [==============================] - 3s 11ms/step - loss: 7.2597e-04 - val_loss: 0.0022\n",
            "Epoch 173/200\n",
            "241/241 [==============================] - 3s 11ms/step - loss: 7.1679e-04 - val_loss: 0.0021\n",
            "Epoch 174/200\n",
            "241/241 [==============================] - 3s 11ms/step - loss: 7.0899e-04 - val_loss: 0.0021\n",
            "Epoch 175/200\n",
            "241/241 [==============================] - 3s 11ms/step - loss: 7.1787e-04 - val_loss: 0.0021\n",
            "Epoch 176/200\n",
            "241/241 [==============================] - 3s 11ms/step - loss: 7.0559e-04 - val_loss: 0.0021\n",
            "Epoch 177/200\n",
            "241/241 [==============================] - 3s 11ms/step - loss: 7.1249e-04 - val_loss: 0.0021\n",
            "Epoch 178/200\n",
            "241/241 [==============================] - 3s 12ms/step - loss: 7.1283e-04 - val_loss: 0.0021\n",
            "Epoch 179/200\n",
            "241/241 [==============================] - 3s 11ms/step - loss: 7.0685e-04 - val_loss: 0.0020\n",
            "Epoch 180/200\n",
            "241/241 [==============================] - 3s 11ms/step - loss: 7.0108e-04 - val_loss: 0.0020\n",
            "Epoch 181/200\n",
            "241/241 [==============================] - 3s 11ms/step - loss: 6.9735e-04 - val_loss: 0.0020\n",
            "Epoch 182/200\n",
            "241/241 [==============================] - 3s 11ms/step - loss: 7.2488e-04 - val_loss: 0.0021\n",
            "Epoch 183/200\n",
            "241/241 [==============================] - 3s 11ms/step - loss: 7.0333e-04 - val_loss: 0.0020\n",
            "Epoch 184/200\n",
            "241/241 [==============================] - 3s 11ms/step - loss: 7.0669e-04 - val_loss: 0.0021\n",
            "Epoch 185/200\n",
            "241/241 [==============================] - 3s 11ms/step - loss: 7.1037e-04 - val_loss: 0.0020\n",
            "Epoch 186/200\n",
            "241/241 [==============================] - 3s 11ms/step - loss: 7.0884e-04 - val_loss: 0.0020\n",
            "Epoch 187/200\n",
            "241/241 [==============================] - 3s 11ms/step - loss: 7.2080e-04 - val_loss: 0.0021\n",
            "Epoch 188/200\n",
            "241/241 [==============================] - 3s 11ms/step - loss: 7.2381e-04 - val_loss: 0.0019\n",
            "Epoch 189/200\n",
            "241/241 [==============================] - 3s 11ms/step - loss: 7.1342e-04 - val_loss: 0.0021\n",
            "Epoch 190/200\n",
            "241/241 [==============================] - 3s 11ms/step - loss: 7.0431e-04 - val_loss: 0.0021\n",
            "Epoch 191/200\n",
            "241/241 [==============================] - 3s 11ms/step - loss: 7.0803e-04 - val_loss: 0.0024\n",
            "Epoch 192/200\n",
            "241/241 [==============================] - 3s 11ms/step - loss: 7.2834e-04 - val_loss: 0.0021\n",
            "Epoch 193/200\n",
            "241/241 [==============================] - 3s 11ms/step - loss: 6.9969e-04 - val_loss: 0.0021\n",
            "Epoch 194/200\n",
            "241/241 [==============================] - 3s 11ms/step - loss: 7.0071e-04 - val_loss: 0.0021\n",
            "Epoch 195/200\n",
            "241/241 [==============================] - 3s 11ms/step - loss: 6.9792e-04 - val_loss: 0.0022\n",
            "Epoch 196/200\n",
            "241/241 [==============================] - 3s 11ms/step - loss: 7.1950e-04 - val_loss: 0.0023\n",
            "Epoch 197/200\n",
            "241/241 [==============================] - 3s 11ms/step - loss: 7.2445e-04 - val_loss: 0.0020\n",
            "Epoch 198/200\n",
            "241/241 [==============================] - 3s 11ms/step - loss: 7.1311e-04 - val_loss: 0.0022\n",
            "Epoch 199/200\n",
            "241/241 [==============================] - 3s 11ms/step - loss: 7.2504e-04 - val_loss: 0.0022\n",
            "Epoch 200/200\n",
            "241/241 [==============================] - 3s 11ms/step - loss: 7.0800e-04 - val_loss: 0.0021\n"
          ],
          "name": "stdout"
        }
      ]
    },
    {
      "cell_type": "code",
      "metadata": {
        "id": "Qjew6XDloNM-"
      },
      "source": [
        "yhat = simple_lstm_model.predict(X_test_w).reshape(1,-1)[0]\n",
        "resultsDict['Tensorflow simple LSTM'] = evaluate(y_test,yhat)\n",
        "predictionsDict['Tensorflow simple LSTM'] = yhat"
      ],
      "execution_count": null,
      "outputs": []
    },
    {
      "cell_type": "code",
      "metadata": {
        "id": "a8ZcflLBu-TH"
      },
      "source": [
        "temp = 2.1468 #currency at starting date\n",
        "results = []\n",
        "for i in range(len(predictionsDict['Tensorflow simple LSTM'])):\n",
        "  if i == 0:\n",
        "    results.append(temp + predictionsDict['Tensorflow simple LSTM'][0])\n",
        "    continue\n",
        "  else:\n",
        "    results.append(results[i - 1] + predictionsDict['Tensorflow simple LSTM'][i])\n"
      ],
      "execution_count": null,
      "outputs": []
    },
    {
      "cell_type": "code",
      "metadata": {
        "colab": {
          "base_uri": "https://localhost:8080/",
          "height": 282
        },
        "id": "zatYw740oNn2",
        "outputId": "4a4b4d09-a1dd-463d-9cda-77c32d8bb4fb"
      },
      "source": [
        "plt.plot(df_test.Rate.values , label='Original')\n",
        "plt.plot(yhat,color='red',label='LSTM')\n",
        "plt.legend()\n",
        "error = mean_squared_error(df_test.Rate, yhat)\n",
        "print('Test MSE: %.8f' % error)"
      ],
      "execution_count": null,
      "outputs": [
        {
          "output_type": "stream",
          "text": [
            "Test MSE: 0.00001128\n"
          ],
          "name": "stdout"
        },
        {
          "output_type": "display_data",
          "data": {
            "image/png": "[encoded data removed]",
            "text/plain": [
              "<Figure size 432x288 with 1 Axes>"
            ]
          },
          "metadata": {
            "tags": [],
            "needs_background": "light"
          }
        }
      ]
    },
    {
      "cell_type": "markdown",
      "metadata": {
        "id": "a8HKl7eCzzuO"
      },
      "source": [
        "BATCH_SIZE = 64\n",
        "BUFFER_SIZE = 100\n",
        "WINDOW_LENGTH = 24\n",
        "Window = 168\n",
        "Result = 2.5\n",
        "\n",
        "BATCH_SIZE = 512\n",
        "BUFFER_SIZE = 1000\n",
        "WINDOW_LENGTH = 120\n",
        "Window = 120\n",
        "Result = 0.8\n",
        "\n",
        "BATCH_SIZE = 128\n",
        "BUFFER_SIZE = 1000\n",
        "WINDOW_LENGTH = 120\n",
        "Window = 120\n",
        "Result = 4.5\n",
        "\n",
        "BATCH_SIZE = 128\n",
        "BUFFER_SIZE = 100\n",
        "WINDOW_LENGTH = 24\n",
        "window = 120\n",
        "Result = 0.13\n",
        "\n",
        "BATCH_SIZE = 128\n",
        "BUFFER_SIZE = 50\n",
        "WINDOW_LENGTH = 24\n",
        "window = 24\n",
        "Epoch = 50\n",
        "Result = 0.03"
      ]
    },
    {
      "cell_type": "markdown",
      "metadata": {
        "id": "MHpc87R4Gq1W"
      },
      "source": [
        "# **ENSEMBLING**"
      ]
    },
    {
      "cell_type": "code",
      "metadata": {
        "colab": {
          "base_uri": "https://localhost:8080/",
          "height": 120
        },
        "id": "0Xu2dJ2b9r_e",
        "outputId": "6a65d289-88b4-411e-f5e2-bd44215b7679"
      },
      "source": [
        "models = ['Tensorflow simple LSTM',\n",
        " 'Lightgbm',\n",
        " 'XGBoost']\n",
        "resis = pd.DataFrame(data={k: df_test.Rate.values - v for k, v in predictionsDict.items()})[models]\n",
        "corr = resis.corr()\n",
        "print(\"Residuals correlation\")\n",
        "corr.style.background_gradient(cmap='coolwarm')"
      ],
      "execution_count": null,
      "outputs": [
        {
          "output_type": "stream",
          "text": [
            "Residuals correlation\n"
          ],
          "name": "stdout"
        },
        {
          "output_type": "execute_result",
          "data": {
            "text/html": [
              "<style  type=\"text/css\" >\n",
              "#T_3f297cf6_609f_11eb_808e_0242ac1c0002row0_col0,#T_3f297cf6_609f_11eb_808e_0242ac1c0002row1_col1,#T_3f297cf6_609f_11eb_808e_0242ac1c0002row2_col2{\n",
              "            background-color:  #b40426;\n",
              "            color:  #f1f1f1;\n",
              "        }#T_3f297cf6_609f_11eb_808e_0242ac1c0002row0_col1,#T_3f297cf6_609f_11eb_808e_0242ac1c0002row0_col2,#T_3f297cf6_609f_11eb_808e_0242ac1c0002row1_col0{\n",
              "            background-color:  #3b4cc0;\n",
              "            color:  #f1f1f1;\n",
              "        }#T_3f297cf6_609f_11eb_808e_0242ac1c0002row1_col2{\n",
              "            background-color:  #f39778;\n",
              "            color:  #000000;\n",
              "        }#T_3f297cf6_609f_11eb_808e_0242ac1c0002row2_col0{\n",
              "            background-color:  #3c4ec2;\n",
              "            color:  #f1f1f1;\n",
              "        }#T_3f297cf6_609f_11eb_808e_0242ac1c0002row2_col1{\n",
              "            background-color:  #f39577;\n",
              "            color:  #000000;\n",
              "        }</style><table id=\"T_3f297cf6_609f_11eb_808e_0242ac1c0002\" ><thead>    <tr>        <th class=\"blank level0\" ></th>        <th class=\"col_heading level0 col0\" >Tensorflow simple LSTM</th>        <th class=\"col_heading level0 col1\" >Lightgbm</th>        <th class=\"col_heading level0 col2\" >XGBoost</th>    </tr></thead><tbody>\n",
              "                <tr>\n",
              "                        <th id=\"T_3f297cf6_609f_11eb_808e_0242ac1c0002level0_row0\" class=\"row_heading level0 row0\" >Tensorflow simple LSTM</th>\n",
              "                        <td id=\"T_3f297cf6_609f_11eb_808e_0242ac1c0002row0_col0\" class=\"data row0 col0\" >1.000000</td>\n",
              "                        <td id=\"T_3f297cf6_609f_11eb_808e_0242ac1c0002row0_col1\" class=\"data row0 col1\" >0.151921</td>\n",
              "                        <td id=\"T_3f297cf6_609f_11eb_808e_0242ac1c0002row0_col2\" class=\"data row0 col2\" >0.156712</td>\n",
              "            </tr>\n",
              "            <tr>\n",
              "                        <th id=\"T_3f297cf6_609f_11eb_808e_0242ac1c0002level0_row1\" class=\"row_heading level0 row1\" >Lightgbm</th>\n",
              "                        <td id=\"T_3f297cf6_609f_11eb_808e_0242ac1c0002row1_col0\" class=\"data row1 col0\" >0.151921</td>\n",
              "                        <td id=\"T_3f297cf6_609f_11eb_808e_0242ac1c0002row1_col1\" class=\"data row1 col1\" >1.000000</td>\n",
              "                        <td id=\"T_3f297cf6_609f_11eb_808e_0242ac1c0002row1_col2\" class=\"data row1 col2\" >0.794810</td>\n",
              "            </tr>\n",
              "            <tr>\n",
              "                        <th id=\"T_3f297cf6_609f_11eb_808e_0242ac1c0002level0_row2\" class=\"row_heading level0 row2\" >XGBoost</th>\n",
              "                        <td id=\"T_3f297cf6_609f_11eb_808e_0242ac1c0002row2_col0\" class=\"data row2 col0\" >0.156712</td>\n",
              "                        <td id=\"T_3f297cf6_609f_11eb_808e_0242ac1c0002row2_col1\" class=\"data row2 col1\" >0.794810</td>\n",
              "                        <td id=\"T_3f297cf6_609f_11eb_808e_0242ac1c0002row2_col2\" class=\"data row2 col2\" >1.000000</td>\n",
              "            </tr>\n",
              "    </tbody></table>"
            ],
            "text/plain": [
              "<pandas.io.formats.style.Styler at 0x7f1d47d3b6a0>"
            ]
          },
          "metadata": {
            "tags": []
          },
          "execution_count": 144
        }
      ]
    },
    {
      "cell_type": "code",
      "metadata": {
        "id": "W9C-k-uPI_hd"
      },
      "source": [
        "predictionsDict['EnsembleXG+LIGHT'] = (predictionsDict['XGBoost'] + predictionsDict['Lightgbm'])/2\n",
        "resultsDict['EnsembleXG+LIGHT'] = evaluate(df_test.Rate.values,predictionsDict['EnsembleXG+LIGHT'])\n",
        "\n",
        "predictionsDict['EnsembleXG+LIGHT+TF'] = (predictionsDict['XGBoost'] + predictionsDict['Lightgbm']+ predictionsDict['Tensorflow simple LSTM'])/3\n",
        "resultsDict['EnsembleXG+LIGHT+TF'] = evaluate(df_test.Rate.values,predictionsDict['EnsembleXG+LIGHT+TF'])\n",
        "\n",
        "predictionsDict['EnsembleLIGHT+TF'] = (predictionsDict['Lightgbm']+ predictionsDict['Tensorflow simple LSTM'])/2\n",
        "resultsDict['EnsembleLIGHT+TF'] = evaluate(df_test.Rate.values,predictionsDict['EnsembleLIGHT+TF'])\n",
        "\n",
        "predictionsDict['EnsembleXG+TF'] = (predictionsDict['XGBoost']+ predictionsDict['Tensorflow simple LSTM'])/2\n",
        "resultsDict['EnsembleXG+TF'] = evaluate(df_test.Rate.values,predictionsDict['EnsembleXG+TF'])"
      ],
      "execution_count": null,
      "outputs": []
    },
    {
      "cell_type": "code",
      "metadata": {
        "id": "GA-JX4H_JT1E"
      },
      "source": [
        "import pickle\n",
        "\n",
        "with open('scores.pickle', 'wb') as handle:\n",
        "    pickle.dump(resultsDict, handle, protocol=pickle.HIGHEST_PROTOCOL)\n",
        "    \n",
        "with open('predictions.pickle', 'wb') as handle:\n",
        "    pickle.dump(predictionsDict, handle, protocol=pickle.HIGHEST_PROTOCOL)"
      ],
      "execution_count": null,
      "outputs": []
    },
    {
      "cell_type": "code",
      "metadata": {
        "id": "gxOl0P-SR-lW",
        "colab": {
          "base_uri": "https://localhost:8080/",
          "height": 17
        },
        "outputId": "e89862f4-03f5-4649-f368-e8c7f093058c"
      },
      "source": [
        "from google.colab import files\n",
        "files.download('scores.pickle')\n",
        "files.download('predictions.pickle')"
      ],
      "execution_count": null,
      "outputs": [
        {
          "output_type": "display_data",
          "data": {
            "application/javascript": [
              "\n",
              "    async function download(id, filename, size) {\n",
              "      if (!google.colab.kernel.accessAllowed) {\n",
              "        return;\n",
              "      }\n",
              "      const div = document.createElement('div');\n",
              "      const label = document.createElement('label');\n",
              "      label.textContent = `Downloading \"${filename}\": `;\n",
              "      div.appendChild(label);\n",
              "      const progress = document.createElement('progress');\n",
              "      progress.max = size;\n",
              "      div.appendChild(progress);\n",
              "      document.body.appendChild(div);\n",
              "\n",
              "      const buffers = [];\n",
              "      let downloaded = 0;\n",
              "\n",
              "      const channel = await google.colab.kernel.comms.open(id);\n",
              "      // Send a message to notify the kernel that we're ready.\n",
              "      channel.send({})\n",
              "\n",
              "      for await (const message of channel.messages) {\n",
              "        // Send a message to notify the kernel that we're ready.\n",
              "        channel.send({})\n",
              "        if (message.buffers) {\n",
              "          for (const buffer of message.buffers) {\n",
              "            buffers.push(buffer);\n",
              "            downloaded += buffer.byteLength;\n",
              "            progress.value = downloaded;\n",
              "          }\n",
              "        }\n",
              "      }\n",
              "      const blob = new Blob(buffers, {type: 'application/binary'});\n",
              "      const a = document.createElement('a');\n",
              "      a.href = window.URL.createObjectURL(blob);\n",
              "      a.download = filename;\n",
              "      div.appendChild(a);\n",
              "      a.click();\n",
              "      div.remove();\n",
              "    }\n",
              "  "
            ],
            "text/plain": [
              "<IPython.core.display.Javascript object>"
            ]
          },
          "metadata": {
            "tags": []
          }
        },
        {
          "output_type": "display_data",
          "data": {
            "application/javascript": [
              "download(\"download_9ff98352-f4de-4328-ad4e-414a4c0eab14\", \"scores.pickle\", 1207)"
            ],
            "text/plain": [
              "<IPython.core.display.Javascript object>"
            ]
          },
          "metadata": {
            "tags": []
          }
        },
        {
          "output_type": "display_data",
          "data": {
            "application/javascript": [
              "\n",
              "    async function download(id, filename, size) {\n",
              "      if (!google.colab.kernel.accessAllowed) {\n",
              "        return;\n",
              "      }\n",
              "      const div = document.createElement('div');\n",
              "      const label = document.createElement('label');\n",
              "      label.textContent = `Downloading \"${filename}\": `;\n",
              "      div.appendChild(label);\n",
              "      const progress = document.createElement('progress');\n",
              "      progress.max = size;\n",
              "      div.appendChild(progress);\n",
              "      document.body.appendChild(div);\n",
              "\n",
              "      const buffers = [];\n",
              "      let downloaded = 0;\n",
              "\n",
              "      const channel = await google.colab.kernel.comms.open(id);\n",
              "      // Send a message to notify the kernel that we're ready.\n",
              "      channel.send({})\n",
              "\n",
              "      for await (const message of channel.messages) {\n",
              "        // Send a message to notify the kernel that we're ready.\n",
              "        channel.send({})\n",
              "        if (message.buffers) {\n",
              "          for (const buffer of message.buffers) {\n",
              "            buffers.push(buffer);\n",
              "            downloaded += buffer.byteLength;\n",
              "            progress.value = downloaded;\n",
              "          }\n",
              "        }\n",
              "      }\n",
              "      const blob = new Blob(buffers, {type: 'application/binary'});\n",
              "      const a = document.createElement('a');\n",
              "      a.href = window.URL.createObjectURL(blob);\n",
              "      a.download = filename;\n",
              "      div.appendChild(a);\n",
              "      a.click();\n",
              "      div.remove();\n",
              "    }\n",
              "  "
            ],
            "text/plain": [
              "<IPython.core.display.Javascript object>"
            ]
          },
          "metadata": {
            "tags": []
          }
        },
        {
          "output_type": "display_data",
          "data": {
            "application/javascript": [
              "download(\"download_076dfb32-8699-4279-b169-9078410aee78\", \"predictions.pickle\", 574751)"
            ],
            "text/plain": [
              "<IPython.core.display.Javascript object>"
            ]
          },
          "metadata": {
            "tags": []
          }
        }
      ]
    },
    {
      "cell_type": "code",
      "metadata": {
        "id": "bcTlzLjjKBw5"
      },
      "source": [
        "import pickle\n",
        "with open('tweets_scores.pickle', 'rb') as handle:\n",
        "    resultsDict = pickle.load(handle)\n",
        "\n",
        "with open('tweets_predictions.pickle', 'rb') as handle:\n",
        "    predictionsDict = pickle.load(handle)"
      ],
      "execution_count": null,
      "outputs": []
    }
  ]
}