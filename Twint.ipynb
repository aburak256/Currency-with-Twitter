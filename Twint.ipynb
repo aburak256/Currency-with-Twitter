{
  "nbformat": 4,
  "nbformat_minor": 0,
  "metadata": {
    "colab": {
      "name": "Twint.ipynb",
      "provenance": [],
      "authorship_tag": "ABX9TyORtA0azCFi8ubCM5PxH0CH",
      "include_colab_link": true
    },
    "kernelspec": {
      "name": "python3",
      "display_name": "Python 3"
    }
  },
  "cells": [
    {
      "cell_type": "markdown",
      "metadata": {
        "id": "view-in-github",
        "colab_type": "text"
      },
      "source": [
        "<a href=\"https://colab.research.google.com/github/aburak256/Currency-with-Twitter/blob/main/Twint.ipynb\" target=\"_parent\"><img src=\"https://colab.research.google.com/assets/colab-badge.svg\" alt=\"Open In Colab\"/></a>"
      ]
    },
    {
      "cell_type": "code",
      "metadata": {
        "colab": {
          "base_uri": "https://localhost:8080/",
          "height": 918
        },
        "id": "AL4l7_JWT9sU",
        "outputId": "9d5a9c72-5545-4742-8c43-c9eb49ba643c"
      },
      "source": [
        "pip install --user --upgrade git+https://github.com/twintproject/twint.git@origin/master#egg=twint"
      ],
      "execution_count": 2,
      "outputs": [
        {
          "output_type": "stream",
          "text": [
            "Collecting twint\n",
            "  Cloning https://github.com/twintproject/twint.git (to revision origin/master) to /tmp/pip-install-0m3zal_d/twint\n",
            "  Running command git clone -q https://github.com/twintproject/twint.git /tmp/pip-install-0m3zal_d/twint\n",
            "\u001b[33m  WARNING: Did not find branch or tag 'origin/master', assuming revision or ref.\u001b[0m\n",
            "  Running command git checkout -q origin/master\n",
            "Requirement already satisfied, skipping upgrade: aiohttp in /usr/local/lib/python3.6/dist-packages (from twint) (3.7.3)\n",
            "Requirement already satisfied, skipping upgrade: aiodns in /usr/local/lib/python3.6/dist-packages (from twint) (2.0.0)\n",
            "Requirement already satisfied, skipping upgrade: beautifulsoup4 in /usr/local/lib/python3.6/dist-packages (from twint) (4.6.3)\n",
            "Requirement already satisfied, skipping upgrade: cchardet in /usr/local/lib/python3.6/dist-packages (from twint) (2.1.7)\n",
            "Requirement already satisfied, skipping upgrade: dataclasses in /usr/local/lib/python3.6/dist-packages (from twint) (0.8)\n",
            "Requirement already satisfied, skipping upgrade: elasticsearch in /usr/local/lib/python3.6/dist-packages (from twint) (7.10.1)\n",
            "Requirement already satisfied, skipping upgrade: pysocks in /usr/local/lib/python3.6/dist-packages (from twint) (1.7.1)\n",
            "Requirement already satisfied, skipping upgrade: pandas in /usr/local/lib/python3.6/dist-packages (from twint) (1.1.5)\n",
            "Requirement already satisfied, skipping upgrade: aiohttp_socks in /usr/local/lib/python3.6/dist-packages (from twint) (0.5.5)\n",
            "Requirement already satisfied, skipping upgrade: schedule in /usr/local/lib/python3.6/dist-packages (from twint) (0.6.0)\n",
            "Requirement already satisfied, skipping upgrade: geopy in /usr/local/lib/python3.6/dist-packages (from twint) (1.17.0)\n",
            "Requirement already satisfied, skipping upgrade: fake-useragent in /usr/local/lib/python3.6/dist-packages (from twint) (0.1.11)\n",
            "Requirement already satisfied, skipping upgrade: googletransx in /usr/local/lib/python3.6/dist-packages (from twint) (2.4.2)\n",
            "Requirement already satisfied, skipping upgrade: typing-extensions>=3.6.5 in /usr/local/lib/python3.6/dist-packages (from aiohttp->twint) (3.7.4.3)\n",
            "Requirement already satisfied, skipping upgrade: multidict<7.0,>=4.5 in /usr/local/lib/python3.6/dist-packages (from aiohttp->twint) (5.1.0)\n",
            "Requirement already satisfied, skipping upgrade: attrs>=17.3.0 in /usr/local/lib/python3.6/dist-packages (from aiohttp->twint) (20.3.0)\n",
            "Requirement already satisfied, skipping upgrade: yarl<2.0,>=1.0 in /usr/local/lib/python3.6/dist-packages (from aiohttp->twint) (1.6.3)\n",
            "Requirement already satisfied, skipping upgrade: idna-ssl>=1.0; python_version < \"3.7\" in /usr/local/lib/python3.6/dist-packages (from aiohttp->twint) (1.1.0)\n",
            "Requirement already satisfied, skipping upgrade: chardet<4.0,>=2.0 in /usr/local/lib/python3.6/dist-packages (from aiohttp->twint) (3.0.4)\n",
            "Requirement already satisfied, skipping upgrade: async-timeout<4.0,>=3.0 in /usr/local/lib/python3.6/dist-packages (from aiohttp->twint) (3.0.1)\n",
            "Requirement already satisfied, skipping upgrade: typing; python_version < \"3.7\" in /usr/local/lib/python3.6/dist-packages (from aiodns->twint) (3.7.4.3)\n",
            "Requirement already satisfied, skipping upgrade: pycares>=3.0.0 in /usr/local/lib/python3.6/dist-packages (from aiodns->twint) (3.1.1)\n",
            "Requirement already satisfied, skipping upgrade: urllib3<2,>=1.21.1 in /usr/local/lib/python3.6/dist-packages (from elasticsearch->twint) (1.24.3)\n",
            "Requirement already satisfied, skipping upgrade: certifi in /usr/local/lib/python3.6/dist-packages (from elasticsearch->twint) (2020.12.5)\n",
            "Requirement already satisfied, skipping upgrade: python-dateutil>=2.7.3 in /usr/local/lib/python3.6/dist-packages (from pandas->twint) (2.8.1)\n",
            "Requirement already satisfied, skipping upgrade: numpy>=1.15.4 in /usr/local/lib/python3.6/dist-packages (from pandas->twint) (1.18.5)\n",
            "Requirement already satisfied, skipping upgrade: pytz>=2017.2 in /usr/local/lib/python3.6/dist-packages (from pandas->twint) (2018.9)\n",
            "Requirement already satisfied, skipping upgrade: python-socks[asyncio]>=1.0.1 in /usr/local/lib/python3.6/dist-packages (from aiohttp_socks->twint) (1.1.1)\n",
            "Requirement already satisfied, skipping upgrade: geographiclib<2,>=1.49 in /usr/local/lib/python3.6/dist-packages (from geopy->twint) (1.50)\n",
            "Requirement already satisfied, skipping upgrade: requests in /usr/local/lib/python3.6/dist-packages (from googletransx->twint) (2.23.0)\n",
            "Requirement already satisfied, skipping upgrade: idna>=2.0 in /usr/local/lib/python3.6/dist-packages (from yarl<2.0,>=1.0->aiohttp->twint) (2.10)\n",
            "Requirement already satisfied, skipping upgrade: cffi>=1.5.0 in /usr/local/lib/python3.6/dist-packages (from pycares>=3.0.0->aiodns->twint) (1.14.4)\n",
            "Requirement already satisfied, skipping upgrade: six>=1.5 in /usr/local/lib/python3.6/dist-packages (from python-dateutil>=2.7.3->pandas->twint) (1.15.0)\n",
            "Requirement already satisfied, skipping upgrade: pycparser in /usr/local/lib/python3.6/dist-packages (from cffi>=1.5.0->pycares>=3.0.0->aiodns->twint) (2.20)\n",
            "Building wheels for collected packages: twint\n",
            "  Building wheel for twint (setup.py) ... \u001b[?25l\u001b[?25hdone\n",
            "  Created wheel for twint: filename=twint-2.1.21-cp36-none-any.whl size=38674 sha256=a151204a1b0284a85a252081b5395e2656459725ff8fda3c334ed34ad8396cbf\n",
            "  Stored in directory: /tmp/pip-ephem-wheel-cache-k7v7q933/wheels/4f/3b/75/62d04b3b446658ba85401e8868d3cd1d4bc22f17ad755460a6\n",
            "Successfully built twint\n",
            "Installing collected packages: twint\n",
            "\u001b[33m  WARNING: The script twint is installed in '/root/.local/bin' which is not on PATH.\n",
            "  Consider adding this directory to PATH or, if you prefer to suppress this warning, use --no-warn-script-location.\u001b[0m\n",
            "Successfully installed twint-2.1.21\n"
          ],
          "name": "stdout"
        },
        {
          "output_type": "display_data",
          "data": {
            "application/vnd.colab-display-data+json": {
              "pip_warning": {
                "packages": [
                  "twint"
                ]
              }
            }
          },
          "metadata": {
            "tags": []
          }
        }
      ]
    },
    {
      "cell_type": "code",
      "metadata": {
        "id": "snUhkOcWUAba"
      },
      "source": [
        "# Solve compatibility issues with notebooks and RunTime errors.\r\n",
        "import nest_asyncio\r\n",
        "import csv\r\n",
        "nest_asyncio.apply()"
      ],
      "execution_count": 21,
      "outputs": []
    },
    {
      "cell_type": "code",
      "metadata": {
        "colab": {
          "base_uri": "https://localhost:8080/"
        },
        "id": "PT-wKJaaWoNi",
        "outputId": "1e6f65bd-f0ec-4f34-d903-059904995a35"
      },
      "source": [
        "z = twint.Config()\r\n",
        "\r\n",
        "z.Search = \"Dollar\"\r\n",
        "z.Limit = 50\r\n",
        "z.Stats = True\r\n",
        "z.Count = True\r\n",
        "z.Lang = \"en\"\r\n",
        "z.Output = \"t.csv\"\r\n",
        "z.Store_csv = True\r\n",
        "twint.run.Search(z)\r\n",
        "\r\n",
        "\r\n",
        "with open(\"t.csv\",\"r\") as f:\r\n",
        "    reader = csv.reader(f,delimiter = \",\")\r\n",
        "    data = list(reader)\r\n",
        "    row_count = len(data)"
      ],
      "execution_count": 26,
      "outputs": [
        {
          "output_type": "stream",
          "text": [
            "1337701420271763456 2020-12-12 10:10:46 +0000 <larizzajn> @ruthmrz_ jowa mo ko dyh | 0 replies 0 retweets 0 likes\n",
            "1337701415242829824 2020-12-12 10:10:45 +0000 <king_of_Erl> @tigerboing83 @HarterReset Für ein paar Dollar | 0 replies 0 retweets 0 likes\n",
            "1337701406375985153 2020-12-12 10:10:43 +0000 <dfwyb__home> WHATS HAPPENING PLEASE TAY GOT A EYBOW SLIT? MEW RELEASED AOTHER SONG? TF IS SAIZON DOING  AND YESTERDAY I WAS IN 3MILLION THAI BAHT FANDOM.. TODAY JM JN 3 MILLION DOLLAR STREAM FANDKM   CAN I BREGHER.. LEME BREATHE.. OGOD  https://t.co/zaPN71LXmC | 0 replies 0 retweets 0 likes\n",
            "1337701248355753984 2020-12-12 10:10:05 +0000 <SofDollar> @heartbreakelson Esperando | 0 replies 0 retweets 0 likes\n",
            "1337701222904684545 2020-12-12 10:09:59 +0000 <OfficialSODoll1> @BurnaBoyVoice Oluwaburna 🙌🙌🙌🙌🙌🙌🙌show me love with any amount boas 🙏🙏 | 0 replies 0 retweets 0 likes\n",
            "1337701217120755712 2020-12-12 10:09:58 +0000 <00terence> حقيقة ان الكيبوب ستانز يحسبون لو مفضلينهم لبسو لماركة تدعم المثلية دعموها هم بعد مره تضحك بالذات يوم يسوون ثريدز بهالجدية ويضمون هالأفعال العابرة😭😭على كذا مافي احد عنده ابل هوموفوبيك هذا قي بزنس وانت قاعد تدعمه فخلاص مؤكد صحيانك ولا فيه مكان للصدف بمعاييرنا كل شي يصير مخطط له | 0 replies 0 retweets 0 likes\n",
            "1337701214654517248 2020-12-12 10:09:57 +0000 <00terence> بلوبيري؟؟طيب فاشن لا اكثر بالأخص من ماركة كذا بيشترون كل شي منها ولو كان عبارة عن خطين ونجمة وزق 😭😭ما اصدق | 1 replies 0 retweets 0 likes\n",
            "1337701128398573568 2020-12-12 10:09:36 +0000 <ItsDomyeWest> million dollar home        million dollar anywhere else:               home in NYC:  https://t.co/Jpue3cVomd | 0 replies 0 retweets 0 likes\n",
            "1337701104935718912 2020-12-12 10:09:31 +0000 <hashtagandDan> @RyanAFournier Come on man. If your son was smoking crack with a prostitute while taking a 5 million dollar no interest forgivable loan from a communist country wouldn't you be proud also? | 0 replies 0 retweets 0 likes\n",
            "1337701089743949824 2020-12-12 10:09:27 +0000 <belladonnatxt> me: look dad its the good kush! ghira: this is the dollar store how good can it be | 0 replies 1 retweets 1 likes\n",
            "1337701065509261315 2020-12-12 10:09:21 +0000 <simbatopcat> @finbarvano @RealTina40 You do know that the 1960 election was very close and many historians believe it was fixed! From the mafia to jfk dad Joe handing out 20 dollar bills like campaign buttons. | 0 replies 0 retweets 0 likes\n",
            "1337701057082875904 2020-12-12 10:09:19 +0000 <damonknows25> @TeeePee @loeffle1 @JBuch57 @mr_markjacobs @oliverdarcy @CNN So he’s rich but spent his presidency squeezing every dollar he could out of it for himself? Besides that is the blatant stuff like foreign countries booking up his dc hotel when they weren’t staying there. This man has been a con his whole life | 0 replies 0 retweets 0 likes\n",
            "1337701000203874304 2020-12-12 10:09:06 +0000 <KingKRoolG> @linop412 Hey you write bad things about their multimillion dollar games they don’t ship you review copies for the next one 👀 | 0 replies 0 retweets 1 likes\n",
            "1337700981685927936 2020-12-12 10:09:01 +0000 <dharono> Dollar Little Changed After U.S. PPI  https://t.co/PNL5yoTDBH | 0 replies 0 retweets 0 likes\n",
            "1337700954037088262 2020-12-12 10:08:55 +0000 <m4Rlboromerah> dollar dollar dollar bill come get her | 0 replies 0 retweets 0 likes\n",
            "1337700899813273601 2020-12-12 10:08:42 +0000 <JacquesLako> @KobresTchele @M_Koulibaly La meme chose pourrait se faire pour l'ensembble des produits d'exportation. Par pour 1,5 M de tonnes de KKO cela ferait a peu pres 7,5 milliards de dollar soit pres de 4000 milliards de CFA, combine aux PDUIT CA FAIT UNE GROSSE MANNE | 0 replies 0 retweets 0 likes\n",
            "1337700792329973762 2020-12-12 10:08:16 +0000 <pur_pleberry> @GodswillTaiye Don’t 🤣🤣🤣🤣🤣 | 0 replies 0 retweets 0 likes\n",
            "1337700784146968576 2020-12-12 10:08:14 +0000 <infosuphighway> @drmatthewhardy @amidgley @afneil Looks like it’s a no deal.  I can see the eh doing a deal as it makes the option to leave more attractive to other nations within the eu.  I expect a tumble even further in the pounds value.  The dollar is devaluing etc.  Safest place to by is physical gold | 0 replies 0 retweets 1 likes\n",
            "1337700778505625600 2020-12-12 10:08:13 +0000 <Myk_19> The INSANE Story of Instagram | How Kevin Systrom &amp; Mike Krieger Built A BILLION DOLLAR Company. - YouTube  https://t.co/FHrf381EXN | 0 replies 0 retweets 0 likes\n",
            "1337700746033164290 2020-12-12 10:08:05 +0000 <MasatoDate1> Ripple is struggling to clear the $0.5800 resistance against the US Dollar. XRP price is showing bearish signs and it could accelerate lower below $0.5420.  https://t.co/TMoTj3S0Mv | 0 replies 0 retweets 0 likes\n",
            "1337700739209170944 2020-12-12 10:08:04 +0000 <a_beans420> @PaulTassi So in order to have the highest quality gameplay, I have to buy not only the game, but a 1,400 dollar computer, a 900 dollar monitor, a 750 dollar graphics card etc. | 0 replies 0 retweets 0 likes\n",
            "1337700733504798721 2020-12-12 10:08:02 +0000 <JoeyLedesma10> @rogerarellano1 @wanakopake @realDonaldTrump That's not me u fool. At least I don't give my house to someone who wants to wate my money. Ur idol made 170million in contributions from u fools and spends it on porn stars and 20 million dollar a day legal costs that lost it all the way to the Supreme Court. Goodwaste of money | 0 replies 0 retweets 0 likes\n",
            "1337700698692186113 2020-12-12 10:07:54 +0000 <crypto_thai> What a beautiful world we're living in.  The Last AMA winner got 350 dollar instead of 50 dollar. Somehow my Metamask on my phone can't handle a normal transaction anymore and decided to send 7 times more the value  This winner decided to delete the chat and run away. How Nice😐  https://t.co/xdBpIij2N1 | 1 replies 1 retweets 0 likes\n",
            "1337700649979572227 2020-12-12 10:07:42 +0000 <TylerrNunn> someone text me on the way to tennessee pls i have 12 hours ima be bored | 0 replies 0 retweets 0 likes\n",
            "1337700638831087619 2020-12-12 10:07:40 +0000 <ThatsJefe> Good morning another day another dollar | 0 replies 0 retweets 0 likes\n",
            "1337700582874697729 2020-12-12 10:07:26 +0000 <Dxllar_xx> 💸: รับฟังเก่งมาก เป็นที่ปรึกษาได้ | 0 replies 0 retweets 0 likes\n",
            "1337700560921759745 2020-12-12 10:07:21 +0000 <Chong46573830> @MetalMonkeyThe7 Can we trade skins? I only got 200 dollar worth of skins, just wanna use my 200 dollar skins for one of Ur skin | 0 replies 0 retweets 0 likes\n",
            "1337700515220574208 2020-12-12 10:07:10 +0000 <DeeyaUNO4dollar> あっあああああっ！！！　あっああっあっあっあっあっあああああっあああっっっ！！！！　あああああっああっああああっあっっっっっっあああっあっああっあっ！！！！！！　ああああああああああああああ！！！！！！　ああああああああああああああ！！！！　ああああああああああああ！！！！！！！  https://t.co/aUWQLqZrgm | 0 replies 0 retweets 0 likes\n",
            "1337700484862402560 2020-12-12 10:07:03 +0000 <SamuelWilson615> I transferred one dollar from my Venmo into my card. Yes I had one dollar in my Venmo. And it said it’s going to a card with a number that’s not mine.  So whoever you are, enjoy your dollar | 0 replies 0 retweets 0 likes\n",
            "1337700482794594305 2020-12-12 10:07:03 +0000 <koryannabrook> 4/5 Exotic Currency Pairs include Major currencies paired with currencies from countries with emerging markets, such as the British Pound and the South African Rand (GBP/ZAR) and the US Dollar with the Hong Kong Dollar (USD/HKD). | 1 replies 0 retweets 0 likes\n",
            "1337700478906474497 2020-12-12 10:07:02 +0000 <koryannabrook> 3/5 Cross-Currency Pairs are those pairs excluding the US Dollar. The most widely traded Forex Cross pairs including the Euro and British Pound, such as EUR/JPY and GBP/CHF. | 1 replies 0 retweets 0 likes\n",
            "1337700476394090498 2020-12-12 10:07:01 +0000 <koryannabrook> 2/5 Major Currency Pairs are the most frequently traded currencies, consisting of the US Dollar, paired with the Euro (EUR), British Pound (GBP), Japanese Yen (JPY), Swiss Franc (CHF), Canadian (CAD), Australian (AUD) or New Zealand Dollar (NZD). | 1 replies 0 retweets 0 likes\n",
            "1337700456240451584 2020-12-12 10:06:56 +0000 <Haiti24_> Taux de référence : la BRH affiche 71,05 gourdes pour un dollar  https://t.co/YFSCEboxdg | 0 replies 0 retweets 0 likes\n",
            "1337700442902384641 2020-12-12 10:06:53 +0000 <mor_dollar> 早く見てほしいからポイピク復活してくだされ 多分まだ見れないかも〜 | 0 replies 0 retweets 0 likes\n",
            "1337700434769670144 2020-12-12 10:06:51 +0000 <colbyconerly> @tacofather @SM_iron_prince \"Wait a $60 dollar sweatshirt is out of your budget!! You don't live in the suburbs?! I'm not rich! I'm just middle class! I only get 2 vacations a year!\" Keep talking upper middle class white liberals.  https://t.co/7wwxV1R0MG | 0 replies 0 retweets 1 likes\n",
            "1337700427824058370 2020-12-12 10:06:49 +0000 <M_Asingwire> Major Lazer &amp; MOTi (Ty Dollar $ign and Wiz Kid) °°° Boom  Is arguably the greatest mash up song of all time | 0 replies 0 retweets 0 likes\n",
            "1337700402054057985 2020-12-12 10:06:43 +0000 <AashutoshSitau2> Since every dollar counts I will donate for the first time. Cause this is huge | 0 replies 0 retweets 0 likes\n",
            "1337700398363103237 2020-12-12 10:06:42 +0000 <pankaj1012k> Please speak on petrol and diesel price little..as used to speak before 2014 and sir you should compare rupees with dollar.. your speaking topic totally change now | 0 replies 0 retweets 0 likes\n",
            "1337700233485008896 2020-12-12 10:06:03 +0000 <hd62mlmt> @kurtiswu @AOC radicals......she is overpaid but not enough so that she won't sell you a 5 dollar t-shirt for 60 bucks!! | 0 replies 0 retweets 0 likes\n",
            "1337700224295448577 2020-12-12 10:06:01 +0000 <FWJamesSpavin> The trillion-dollar question  Read the latest FW News post here:  https://t.co/ZE4UmeI1h1  #Cyber #Data  https://t.co/Mwbe7QNDqf | 0 replies 0 retweets 0 likes\n",
            "1337700160353124352 2020-12-12 10:05:46 +0000 <Dxllar_xx> 💸: ชอบสกินชิพมาก ยิ่งกับแฟน ถ้าอยู่ใกล้ต้องเป็นกอดเป็นหอมตลอด | 1 replies 0 retweets 0 likes\n",
            "1337700159359246337 2020-12-12 10:05:45 +0000 <RockChalkPhog25> @PowerReclaim @ninjasniperpon1 Even though that entity has no real monetary power, I 100% agree. Look back at President Kennedy’s whole proposal for an interest free dollar (the Kennedy dollars were being produced for a short time). I don’t think banks are a bad thing either. | 1 replies 0 retweets 1 likes\n",
            "1337700105432920064 2020-12-12 10:05:33 +0000 <skinnybtw> @bnsicc  https://t.co/fbpAJOaQqb | 0 replies 0 retweets 2 likes\n",
            "1337700061409636354 2020-12-12 10:05:22 +0000 <TylerrNunn> @macandcheesie_ always. ps there’s another twisted tea tall boy for you in your car. dont drink it tonight you had too much to drink. drunk it tomorrow | 0 replies 0 retweets 1 likes\n",
            "1337700048218583040 2020-12-12 10:05:19 +0000 <Youngman54> @afneil QE, MMT, Yellen, Reserve status dollar, debt, oligarchs. Oh well, bananas will be plentiful in the new republic... | 0 replies 0 retweets 0 likes\n",
            "1337700034092003333 2020-12-12 10:05:16 +0000 <dollar_dollarr> 天気予報を見ている。 火曜日から真冬の寒さになるらしい。  もっとも心配しているのは、冬になっても室外で生長している大玉トマト。 今握りこぶし半分位。 クリスマス、寒空からの収穫できたら・・・。 いいね。  https://t.co/F4tAhTlSYD | 0 replies 0 retweets 0 likes\n",
            "1337700025971990529 2020-12-12 10:05:14 +0000 <RexGoesFourth> Pity poor COVID19 hero Andrew Cuomo, who’s ‘suffering every lost dollar with’ the NYC restaurants whose business he’s destroying  https://t.co/DEGBYZ05yF via @twitchyteam | 0 replies 0 retweets 0 likes\n",
            "1337699907617116167 2020-12-12 10:04:45 +0000 <00terence> هنتر شيفر متغيرة هنا  https://t.co/3TUnOY0wtx | 0 replies 0 retweets 0 likes\n",
            "1337699892190310401 2020-12-12 10:04:42 +0000 <Dxllar_xx> 💸: ช่วงกลางคืนจะว่างหลัง4ทุ่มครับ เพราะอ่านหนังสือ | 1 replies 0 retweets 0 likes\n",
            "1337699881683738624 2020-12-12 10:04:39 +0000 <JacquesLako> @KobresTchele @M_Koulibaly Une strategie pour se faire entendre pourrait etre de vendre le KKO directement dans les commodities Exchanges et y prelever le DUS a USD 5 en dollar directement. Cela permettrait d'engranger de la devise(Forex) sans passer le systeme en cours actuellement | 0 replies 0 retweets 0 likes\n",
            "1337699864000532480 2020-12-12 10:04:35 +0000 <lactosedrop> @Postsubman He a scam sis!!! | 0 replies 0 retweets 0 likes\n",
            "1337699804323979265 2020-12-12 10:04:21 +0000 <TheCurlyGoofMan> Weird how Tenet was a 205 million dollar excuse for Travis Scott to drop his best song ever | 0 replies 0 retweets 0 likes\n",
            "1337699803552239616 2020-12-12 10:04:21 +0000 <sbn144> @kebirungilydi Indeed you're | 0 replies 0 retweets 0 likes\n",
            "1337699797969510400 2020-12-12 10:04:19 +0000 <OZFfW66t3TTJ9qv> @ppbajpai Kaju kismis badam to khai sakte hai dollar uda sakte hai masaj to Kar hi sakte hai udane ki bat to tume jiyada pata hogi bahut krantikari patalkar Jo tahare | 0 replies 0 retweets 0 likes\n",
            "1337699742722129927 2020-12-12 10:04:06 +0000 <MLoParis> @markc01 @MrKRudd @FTChinese Can you believe this hypocrite? He called the Chinese: Rat F*ckers. Believes in Climate Change because like Malcolm Turnbull has been able to invest in renewable stocks  enabling him &amp; rich wife a beach side $17 million dollar home. Gore, John Kerry... Saving the planet? LOL! | 1 replies 1 retweets 1 likes\n",
            "1337699716126056448 2020-12-12 10:04:00 +0000 <satriopoo> Vector Dollar Icon  https://t.co/MxAEKymyKv | 0 replies 0 retweets 0 likes\n",
            "1337699666205405184 2020-12-12 10:03:48 +0000 <sampanthaaaaa> My friends struggle playing warzone on 2,000 dollar pcs, i run warzone pretty good on a 7 year old xbox one | 0 replies 0 retweets 0 likes\n",
            "1337699647809208320 2020-12-12 10:03:43 +0000 <kxnwxl> Million dollar business Idea: Chapstick for dry asshole | 1 replies 1 retweets 5 likes\n",
            "1337699646332751874 2020-12-12 10:03:43 +0000 <DollarInDaWoods> DOLLAR IN THE WOODS AND IM FEELING SO GOOD DOLLAR IN THE WOODS AND IM FEELING SO GREAT | 0 replies 0 retweets 0 likes\n",
            "1337699628997873664 2020-12-12 10:03:39 +0000 <QQgodwins66> @WayneDupreeShow She looks like a Dollar Tree knock off of Amber Rose | 0 replies 0 retweets 0 likes\n",
            "1337699619766116352 2020-12-12 10:03:37 +0000 <ChanderSJoshi> Nakli sardar aur iska nakli samdhi kabutar baaz dollar mandy | 0 replies 0 retweets 0 likes\n",
            "1337699595472625666 2020-12-12 10:03:31 +0000 <we_dollar> @AnneGoulding @NZSO Food for the soul no matter what or even if you're of a spiritual persuasion. | 0 replies 0 retweets 1 likes\n",
            "1337699569241485312 2020-12-12 10:03:25 +0000 <FredGar79388580> @realDonaldTrump Good. You deserved it. Actually you deserved that have your ass sued for every last dollar and thrown in jail for subverting the USA. @realDonaldTrump | 0 replies 0 retweets 0 likes\n",
            "1337699559322120193 2020-12-12 10:03:22 +0000 <RichAltcoin> @Arkeon_Vito Dollar value of the next Sergey selloff | 0 replies 0 retweets 0 likes\n",
            "1337699475331039234 2020-12-12 10:03:02 +0000 <DeeyaUNO4dollar> &gt;RT chakuwikiどころか管理人さんがお亡くなりになられてた…… マジか…… | 0 replies 0 retweets 0 likes\n",
            "1337699462202978310 2020-12-12 10:02:59 +0000 <VatraVenus> what if i just offer to do 10 dollar portrait commissions... i don't think i'm capable of more than that and i need money | 0 replies 0 retweets 0 likes\n",
            "1337699444918202371 2020-12-12 10:02:55 +0000 <Suspended__Hehe> #WeaponsFreeGwadar The China-Pakistan Economic Corridor (CPEC) is more than just a $47 billion dollar investment. It will not only improve Pakistan’s current situation, but promises to improve the lives of nearly three billion people across the region.... @Suspended__Hehe | 0 replies 2 retweets 1 likes\n",
            "1337699430988918784 2020-12-12 10:02:52 +0000 <TerryTh35738702> @SpeakerPelosi PELOSI I thought your jobs was to look out for the people she should have taken the 1.8 TRILLION Dollar Boll but not sometimes you may have to give in PELOSI you never care about the people you will have a good Christmas and eat plenty food and the people are homeless and hungry | 0 replies 0 retweets 0 likes\n",
            "1337699399162617856 2020-12-12 10:02:44 +0000 <ThinkTankCharts> The S&amp;P 500 - 3670 SPX means more up for the markets - a gap down with futures below 3636 for an hour, would be bad for Bulls - externals like the Yen, the US Dollar, need to be watched here.  https://t.co/ssfchM3p8R | 0 replies 0 retweets 2 likes\n",
            "1337699384369287169 2020-12-12 10:02:41 +0000 <Suspended__Hehe> #WeaponsFreeGwadar The China-Pakistan Economic Corridor (CPEC) is more than just a $47 billion dollar investment. It will not only improve Pakistan’s current situation, but promises to improve the lives of nearly three billion people across the region @Suspended__Hehe | 0 replies 2 retweets 1 likes\n",
            "1337699365914255360 2020-12-12 10:02:36 +0000 <Dollar__G> 菅内閣不支持率49%、初めて支持上回る　コロナ対策評価せず62%　毎日新聞世論調査 - 毎日新聞  https://t.co/fW5pulcQTr | 0 replies 0 retweets 0 likes\n",
            "1337699360130404353 2020-12-12 10:02:35 +0000 <AdLcz14> @jonath666 @Mister_D_Dollar Moi aussi j’ai trop hâte de voir celui de mardi!!!! | 0 replies 0 retweets 1 likes\n",
            "1337699356758052864 2020-12-12 10:02:34 +0000 <SFujimotoWriter>  https://t.co/JUjs3YJh2g Read the rest at my Patreon now! Only a dollar to read every one of the stories currently up! | 0 replies 0 retweets 0 likes\n",
            "1337699349321580546 2020-12-12 10:02:32 +0000 <Sociability> Disney's stream of Disney+ announcements on Thursday finally delivered on ~$100B worth of acquisitions over 15 years of widely adored billion dollar franchises (Julia Alexander/The Verge)  https://t.co/5A6qV9Lu26  https://t.co/zrTQMiBYtz | 0 replies 0 retweets 0 likes\n",
            "1337699301376491520 2020-12-12 10:02:21 +0000 <WidasSatyo> Ini belom termasuk cost supply chain ya?? Sekalipun vaksinnya dikasih harga 4 dollar, cost shipment dan sewa container nya bisa lebih.   Sebagai ilustrasi, dalam kondisi normal, sewa satu kontainer ETD dari China aja sekitaran $250 sendiri. Belom cost shipment dan lain2nya.   :)) | 0 replies 0 retweets 3 likes\n",
            "1337699294967713799 2020-12-12 10:02:19 +0000 <lactosedrop> The truth. | 0 replies 1 retweets 1 likes\n",
            "1337699293055029252 2020-12-12 10:02:19 +0000 <theonlytemitope> @Abimbola_iv shuddifuckup, tsk. | 0 replies 0 retweets 0 likes\n",
            "1337699242236928000 2020-12-12 10:02:07 +0000 <lucky_Shanghai> 2 more exams left🤧 | 0 replies 0 retweets 0 likes\n",
            "1337699224029253634 2020-12-12 10:02:02 +0000 <frenchjr25> @sunny @JoyVBehar @WhoopiGoldberg If debt collection companies can buy mortgages for pennies on the dollar why can't the rest of us?  Portland police ask for clear streets at barricaded house - ABC News -  https://t.co/WaUjHkptoR via @ABC | 0 replies 0 retweets 0 likes\n",
            "1337699152910749696 2020-12-12 10:01:45 +0000 <bestcoin> 1882-CC GSA NGC MS64 MORGAN DOLLAR * Box &amp; COA * #5868073-001  https://t.co/68etanOgVp | 0 replies 0 retweets 0 likes\n",
            "1337699120677523456 2020-12-12 10:01:38 +0000 <RockChalkPhog25> @PowerReclaim @ninjasniperpon1 I wouldn’t even say that JR currency needs to be changed in a sense. The specific type of that currency needs to be altered. Right now, our dollar bill has zero value and it never has, and yet the debt it carries within it is astronomical. What we have to do is kill that debt. | 1 replies 0 retweets 1 likes\n",
            "1337699087391420416 2020-12-12 10:01:30 +0000 <DeeyaUNO4dollar> chakuwikiお亡くなりになられたの？？？？？ | 0 replies 0 retweets 0 likes\n",
            "1337698994206756865 2020-12-12 10:01:08 +0000 <Zeroequalsfool> @HandJuwanna @YuriCinque @thegameawards @Naughty_Dog Talking solely on game journalists here, you going completely off topic. Game journalists are the ones pushing the 70 dollar price tag being justified, but any evidence goes directly against that claim, in fact with the advent of digital market places prices should be going down. | 0 replies 0 retweets 0 likes\n",
            "1337698981338607616 2020-12-12 10:01:05 +0000 <TimesFashion> Find out how Charlotte Tilbury built a billion-dollar beauty empire  https://t.co/CDv6LQLwNG  https://t.co/Y9l1atWcvt | 0 replies 0 retweets 4 likes\n",
            "1337698948694339586 2020-12-12 10:00:57 +0000 <sheisbimpe> Baby foods are costly asf 😔💔 | 0 replies 0 retweets 0 likes\n",
            "1337698939311706112 2020-12-12 10:00:55 +0000 <ironman1080> @Edmogeddon13 @TplusZero No way spark is a dollar a piece lol | 1 replies 0 retweets 0 likes\n",
            "1337698902703710208 2020-12-12 10:00:46 +0000 <RobertT04232507> @KMehrabi I'd buy that for a dollar....... | 0 replies 0 retweets 0 likes\n",
            "1337698901122433024 2020-12-12 10:00:45 +0000 <genieshwang> The man who will use his skill and constructive imagination to see how much he can give for a dollar, instead of how little he can give for a dollar, is bound to succeed. | 0 replies 0 retweets 0 likes\n",
            "1337698851914985472 2020-12-12 10:00:34 +0000 <Facey___> I suggest artists to do this shit because they love to. we can't even get a Penny on the dollar outchea lol | 0 replies 0 retweets 0 likes\n",
            "1337698824870113282 2020-12-12 10:00:27 +0000 <ajay_rv> @RafKadian No case for dollar bull n pound bull... Cable just seesaws..🤷‍♂️ | 0 replies 0 retweets 0 likes\n",
            "1337698792930484226 2020-12-12 10:00:20 +0000 <toosecretk> @boston_hoax He was killed while making a documentary exposing big pharmaceutical companies and that’s a multi billion dollar business | 1 replies 0 retweets 0 likes\n",
            "1337698785024114689 2020-12-12 10:00:18 +0000 <BaliHarinder> I don't think anyone has scientific evidence to answer this million dollar question one way or the other I would suggest to have individual approach For HCWs , elderly with co morbidities should take it IMHO  #vaccine #Covidvaccine | 0 replies 0 retweets 0 likes\n",
            "1337698731257421824 2020-12-12 10:00:05 +0000 <wmiddelkoop> Is the Dollar(index) crashing?  https://t.co/ujTgOjp28J | 1 replies 0 retweets 4 likes\n",
            "1337698723594465280 2020-12-12 10:00:03 +0000 <BTCtoCAD> Live Bitcoin price in Canadian Dollar $BTC $XBT $BTCCAD  BTC Price Now : 23,582.19$ CAD  Avg Last Hour : 23,573.77$  Avg 24 Hours : 23,175.12$  24h Change : 3.8%  24h Low : 22,555.31$  24h High : 23,627.05$   More information here  https://t.co/AnKnaDahL6  https://t.co/TkLThgoa6j | 0 replies 0 retweets 0 likes\n",
            "1337698723019669510 2020-12-12 10:00:03 +0000 <amina8995> @magii369 @cavid303 @anonimosaetos1 @Doranimated We know quite well how/for which purposes those “mUlti bIllion dOllar dNa cOmpaniEs” work😉 | 0 replies 0 retweets 0 likes\n",
            "1337698594363674631 2020-12-12 09:59:32 +0000 <sheisbimpe> The prayer hits different when you've done something bad and you can't see your menstruation coming 😩. | 1 replies 1 retweets 5 likes\n",
            "1337698587510071298 2020-12-12 09:59:31 +0000 <twin_jwestcopy> 藤井「電子マネーのEdyってあるやろ？あれって、日本円（En）、ドル(Doru)、 ユーロ(Yuro)の頭文字をとったものらしいで」 中間「ユーロ(euro)、ドル(dollar)、円(yen)やで」 小瀧「間違ってんのに間違ってないのすごいな」 | 0 replies 0 retweets 0 likes\n",
            "1337698549497278465 2020-12-12 09:59:22 +0000 <TobiD69> @redmeld @Spaceys_ @GavinWren @caitiehannan They would still be against it because they’re just egoistic narcissists that think every dollar not benefitting themselves is wasted on poor people. | 0 replies 0 retweets 0 likes\n",
            "1337698531570831360 2020-12-12 09:59:17 +0000 <Mettalex> In #DeFi, every dollar goes to wherever it gets the best risk-adjusted return - even now!  #Mettalex will be one of those virtual places.   #USDT liquidity providers are welcome.  Generous rewards in governance $MTLX tokens.  Soon.  #DeFiCommodities #EliteTrading #YieldFarming | 0 replies 2 retweets 9 likes\n",
            "1337698513946169344 2020-12-12 09:59:13 +0000 <OZFfW66t3TTJ9qv> @Mohansinha Aur kaju badam bhi aur muft ke dollars bhi maja hi maja hai farmer banane me Kash Mai bhi kisan hoti to aaj muje dollar milate  media coverage award bhi milata aur iske liye muje sirf desh ke sath thodisi gaddari karana patadi yah to bahut mamuli bat hai | 0 replies 0 retweets 0 likes\n",
            "[+] Finished: Successfully collected 100 Tweets.\n"
          ],
          "name": "stdout"
        }
      ]
    },
    {
      "cell_type": "code",
      "metadata": {
        "colab": {
          "base_uri": "https://localhost:8080/"
        },
        "id": "jKLt2SEzZiNC",
        "outputId": "f335f2aa-c8de-4c37-9bef-4755da3de04f"
      },
      "source": [
        "row_count"
      ],
      "execution_count": 27,
      "outputs": [
        {
          "output_type": "execute_result",
          "data": {
            "text/plain": [
              "101"
            ]
          },
          "metadata": {
            "tags": []
          },
          "execution_count": 27
        }
      ]
    },
    {
      "cell_type": "code",
      "metadata": {
        "id": "qOgV9iV9Zldp"
      },
      "source": [
        ""
      ],
      "execution_count": null,
      "outputs": []
    }
  ]
}